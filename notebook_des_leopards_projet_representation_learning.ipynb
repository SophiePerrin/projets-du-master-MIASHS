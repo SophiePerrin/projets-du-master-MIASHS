{
  "cells": [
    {
      "cell_type": "markdown",
      "metadata": {
        "id": "Jm3aCEp_w2w2"
      },
      "source": [
        "# Confection de résumés automatiques d'articles scientifiques par un modèle de langue pré-entraîné : étude et comparaison des performances de plusieurs modèles dans l'environnement informatique de kaggle.\n",
        "\n",
        "**Auteur.e.s :** Sophie Perrin, Emmanuelle Kouadio, Belbaron Nzuego, Jean Marius Kombou, Sylvano Kpedotossi, tous et toutes étudiant.e.s du master 2 MIASHS, pour le cours *Representation learning for NLP* @ Master 2 MALIA et MIASHS.\n",
        "\n",
        "**Equipe :** les léopards"
      ]
    },
    {
      "cell_type": "markdown",
      "metadata": {
        "id": "oiCaaZ8YC8hZ"
      },
      "source": [
        "## Préparation de l'environnement\n",
        "\n",
        "1. Se connecter ou se créer un compte sur https://huggingface.co/\n",
        "2. Se créer un nouveau token d'accès : https://huggingface.co/settings/tokens\n",
        "3. Exécuter le code ci-dessous\n",
        "\n",
        "Note importante pour la vitesse de calcul : pour activer l'accélération GPU dans votre notebook Kaggle :\n",
        "\n",
        "    Ouvrez le menu « Settings » : Dans votre notebook Kaggle, cliquez sur le menu « Accelerator » en haut de l'écran, et choisissez un GPU.\n",
        "\n",
        "    Dans ce même menu, vérifiez qu'il n'est pas écrit \"turn off internet\" - sinon cliquer dessus pour rétablir l'accès au reste d'internet depuis kaggle. Si vous n'avez ni \"turn off internet\" ni \"turn on internet\" d'écrit, alors il faut ajouter votre téléphone et votre photo pour certifier votre identité pour le compte, avant de pouvoir accéder au reste d'internet depuis kaggle (nécessaire pour charger les modèles de huggingface et même les packages de python...!).\n",
        "\n"
      ]
    },
    {
      "cell_type": "code",
      "execution_count": null,
      "metadata": {
        "id": "up6kwRmKK_EI"
      },
      "outputs": [],
      "source": [
        "from google.colab import drive\n",
        "drive.mount('/content/drive')"
      ]
    },
    {
      "cell_type": "code",
      "execution_count": null,
      "metadata": {
        "colab": {
          "referenced_widgets": [
            "3a1246ae4116445a99ebf37524c7ff26"
          ]
        },
        "execution": {
          "iopub.execute_input": "2025-01-12T01:26:23.494996Z",
          "iopub.status.busy": "2025-01-12T01:26:23.494678Z",
          "iopub.status.idle": "2025-01-12T01:26:23.512380Z",
          "shell.execute_reply": "2025-01-12T01:26:23.511407Z",
          "shell.execute_reply.started": "2025-01-12T01:26:23.494971Z"
        },
        "id": "3pp0itMoj78l",
        "outputId": "6fc6780e-9cd4-447f-c06d-f7f325e10549"
      },
      "outputs": [
        {
          "data": {
            "application/vnd.jupyter.widget-view+json": {
              "model_id": "3a1246ae4116445a99ebf37524c7ff26",
              "version_major": 2,
              "version_minor": 0
            },
            "text/plain": [
              "VBox(children=(HTML(value='<center> <img\\nsrc=https://www.kaggle.com/static/images/site-logo.png\\nalt=\\'Kaggle…"
            ]
          },
          "metadata": {},
          "output_type": "display_data"
        }
      ],
      "source": [
        "# IMPORTANT: SOME KAGGLE DATA SOURCES ARE PRIVATE\n",
        "# RUN THIS CELL IN ORDER TO IMPORT YOUR KAGGLE DATA SOURCES.\n",
        "import kagglehub\n",
        "kagglehub.login()"
      ]
    },
    {
      "cell_type": "code",
      "execution_count": null,
      "metadata": {
        "execution": {
          "iopub.execute_input": "2025-01-12T01:26:41.276042Z",
          "iopub.status.busy": "2025-01-12T01:26:41.275755Z",
          "iopub.status.idle": "2025-01-12T01:26:42.382260Z",
          "shell.execute_reply": "2025-01-12T01:26:42.381559Z",
          "shell.execute_reply.started": "2025-01-12T01:26:41.276020Z"
        },
        "id": "z-S3zGw4BfUX",
        "outputId": "b91c7e68-5d81-41a5-e693-63e126680a97"
      },
      "outputs": [
        {
          "name": "stdout",
          "output_type": "stream",
          "text": [
            "Data source import complete.\n"
          ]
        }
      ],
      "source": [
        "\n",
        "# IMPORTANT: RUN THIS CELL IN ORDER TO IMPORT YOUR KAGGLE DATA SOURCES,\n",
        "# THEN FEEL FREE TO DELETE THIS CELL.\n",
        "# NOTE: THIS NOTEBOOK ENVIRONMENT DIFFERS FROM KAGGLE'S PYTHON\n",
        "# ENVIRONMENT SO THERE MAY BE MISSING LIBRARIES USED BY YOUR\n",
        "# NOTEBOOK.\n",
        "\n",
        "m_2_maliash_resume_darticles_scientifiques_path = kagglehub.competition_download('m-2-maliash-resume-darticles-scientifiques')\n",
        "\n",
        "print('Data source import complete.')"
      ]
    },
    {
      "cell_type": "code",
      "execution_count": null,
      "metadata": {
        "execution": {
          "iopub.execute_input": "2025-01-12T01:27:33.133769Z",
          "iopub.status.busy": "2025-01-12T01:27:33.133435Z",
          "iopub.status.idle": "2025-01-12T01:27:33.234930Z",
          "shell.execute_reply": "2025-01-12T01:27:33.233876Z",
          "shell.execute_reply.started": "2025-01-12T01:27:33.133741Z"
        },
        "id": "rie0sdtxIx1P",
        "outputId": "27015ff0-083e-41d7-c032-4246c663497b"
      },
      "outputs": [
        {
          "ename": "BackendError",
          "evalue": "Unexpected response from the service. Response: {'errors': ['No user secrets exist for kernel id 74487876 and label HF_TOKEN.'], 'error': {'code': 5, 'details': []}, 'wasSuccessful': False}.",
          "output_type": "error",
          "traceback": [
            "\u001b[0;31m---------------------------------------------------------------------------\u001b[0m",
            "\u001b[0;31mBackendError\u001b[0m                              Traceback (most recent call last)",
            "\u001b[0;32m<ipython-input-7-f552d14275a0>\u001b[0m in \u001b[0;36m<cell line: 8>\u001b[0;34m()\u001b[0m\n\u001b[1;32m      6\u001b[0m \u001b[0;32mfrom\u001b[0m \u001b[0mkaggle_secrets\u001b[0m \u001b[0;32mimport\u001b[0m \u001b[0mUserSecretsClient\u001b[0m\u001b[0;34m\u001b[0m\u001b[0;34m\u001b[0m\u001b[0m\n\u001b[1;32m      7\u001b[0m \u001b[0muser_secrets\u001b[0m \u001b[0;34m=\u001b[0m \u001b[0mUserSecretsClient\u001b[0m\u001b[0;34m(\u001b[0m\u001b[0;34m)\u001b[0m\u001b[0;34m\u001b[0m\u001b[0;34m\u001b[0m\u001b[0m\n\u001b[0;32m----> 8\u001b[0;31m \u001b[0msecret_value_0\u001b[0m \u001b[0;34m=\u001b[0m \u001b[0muser_secrets\u001b[0m\u001b[0;34m.\u001b[0m\u001b[0mget_secret\u001b[0m\u001b[0;34m(\u001b[0m\u001b[0;34m\"HF_TOKEN\"\u001b[0m\u001b[0;34m)\u001b[0m\u001b[0;34m\u001b[0m\u001b[0;34m\u001b[0m\u001b[0m\n\u001b[0m",
            "\u001b[0;32m/usr/local/lib/python3.10/dist-packages/kaggle_secrets.py\u001b[0m in \u001b[0;36mget_secret\u001b[0;34m(self, label)\u001b[0m\n\u001b[1;32m     62\u001b[0m             \u001b[0;34m'Label'\u001b[0m\u001b[0;34m:\u001b[0m \u001b[0mlabel\u001b[0m\u001b[0;34m,\u001b[0m\u001b[0;34m\u001b[0m\u001b[0;34m\u001b[0m\u001b[0m\n\u001b[1;32m     63\u001b[0m         }\n\u001b[0;32m---> 64\u001b[0;31m         \u001b[0mresponse_json\u001b[0m \u001b[0;34m=\u001b[0m \u001b[0mself\u001b[0m\u001b[0;34m.\u001b[0m\u001b[0mweb_client\u001b[0m\u001b[0;34m.\u001b[0m\u001b[0mmake_post_request\u001b[0m\u001b[0;34m(\u001b[0m\u001b[0mrequest_body\u001b[0m\u001b[0;34m,\u001b[0m \u001b[0mself\u001b[0m\u001b[0;34m.\u001b[0m\u001b[0mGET_USER_SECRET_BY_LABEL_ENDPOINT\u001b[0m\u001b[0;34m)\u001b[0m\u001b[0;34m\u001b[0m\u001b[0;34m\u001b[0m\u001b[0m\n\u001b[0m\u001b[1;32m     65\u001b[0m         \u001b[0;32mif\u001b[0m \u001b[0;34m'secret'\u001b[0m \u001b[0;32mnot\u001b[0m \u001b[0;32min\u001b[0m \u001b[0mresponse_json\u001b[0m\u001b[0;34m:\u001b[0m\u001b[0;34m\u001b[0m\u001b[0;34m\u001b[0m\u001b[0m\n\u001b[1;32m     66\u001b[0m             raise BackendError(\n",
            "\u001b[0;32m/usr/local/lib/python3.10/dist-packages/kaggle_web_client.py\u001b[0m in \u001b[0;36mmake_post_request\u001b[0;34m(self, data, endpoint, timeout)\u001b[0m\n\u001b[1;32m     47\u001b[0m                 \u001b[0mresponse_json\u001b[0m \u001b[0;34m=\u001b[0m \u001b[0mjson\u001b[0m\u001b[0;34m.\u001b[0m\u001b[0mloads\u001b[0m\u001b[0;34m(\u001b[0m\u001b[0mresponse\u001b[0m\u001b[0;34m.\u001b[0m\u001b[0mread\u001b[0m\u001b[0;34m(\u001b[0m\u001b[0;34m)\u001b[0m\u001b[0;34m)\u001b[0m\u001b[0;34m\u001b[0m\u001b[0;34m\u001b[0m\u001b[0m\n\u001b[1;32m     48\u001b[0m                 \u001b[0;32mif\u001b[0m \u001b[0;32mnot\u001b[0m \u001b[0mresponse_json\u001b[0m\u001b[0;34m.\u001b[0m\u001b[0mget\u001b[0m\u001b[0;34m(\u001b[0m\u001b[0;34m'wasSuccessful'\u001b[0m\u001b[0;34m)\u001b[0m \u001b[0;32mor\u001b[0m \u001b[0;34m'result'\u001b[0m \u001b[0;32mnot\u001b[0m \u001b[0;32min\u001b[0m \u001b[0mresponse_json\u001b[0m\u001b[0;34m:\u001b[0m\u001b[0;34m\u001b[0m\u001b[0;34m\u001b[0m\u001b[0m\n\u001b[0;32m---> 49\u001b[0;31m                     raise BackendError(\n\u001b[0m\u001b[1;32m     50\u001b[0m                         f'Unexpected response from the service. Response: {response_json}.')\n\u001b[1;32m     51\u001b[0m                 \u001b[0;32mreturn\u001b[0m \u001b[0mresponse_json\u001b[0m\u001b[0;34m[\u001b[0m\u001b[0;34m'result'\u001b[0m\u001b[0;34m]\u001b[0m\u001b[0;34m\u001b[0m\u001b[0;34m\u001b[0m\u001b[0m\n",
            "\u001b[0;31mBackendError\u001b[0m: Unexpected response from the service. Response: {'errors': ['No user secrets exist for kernel id 74487876 and label HF_TOKEN.'], 'error': {'code': 5, 'details': []}, 'wasSuccessful': False}."
          ]
        }
      ],
      "source": [
        "#Pour créer le \"HF_TOKEN\" dans Kaggle, aller dans \"Add-ons\" (dans les menus de ce notebook, juste à gauche de \"Help\").\n",
        "#Une fois là, aller dans \"secrets\", puis ça marche à peu près comme dans colab : il faut nommer la variable (HF_TOKEN) et\n",
        "#y copier sa valeur.\n",
        "\n",
        "\n",
        "from kaggle_secrets import UserSecretsClient\n",
        "user_secrets = UserSecretsClient()\n",
        "secret_value_0 = user_secrets.get_secret(\"HF_TOKEN\")\n"
      ]
    },
    {
      "cell_type": "markdown",
      "metadata": {
        "id": "hoSW39T9djGs"
      },
      "source": [
        "# Préparation des données d'entraînement pour leur utilisation par le modèle"
      ]
    },
    {
      "cell_type": "markdown",
      "metadata": {
        "id": "9-gfaITHIx1R"
      },
      "source": [
        "On a à faire les résumés automatisés de deux types d'articles différents :\n",
        "\n",
        "- les articles de type \"OBS\"\n",
        "\n",
        "- et les articles de type \"RCT\"\n",
        "\n",
        "Nous allons donc fine-tuner le modèle spécifiquement sur chaque catégorie d'article, afin que sa spécialisation soit, pour chaque catégorie, au plus proche pour elle."
      ]
    },
    {
      "cell_type": "markdown",
      "metadata": {
        "id": "ekkD0ru0Ix1R"
      },
      "source": [
        "## Données du dossier OBS"
      ]
    },
    {
      "cell_type": "markdown",
      "metadata": {
        "id": "iSOUl2N1dtAz"
      },
      "source": [
        "On crée un dictionnaire qui apparie les articles de l'ensemble d'entraînement (\"fine tuning\" puisque le modèle est déjà pré-entraîné) et leurs résumés par leur identifiant commun.\n",
        "\n",
        "A noter que quelques résumés n'ont pas d'article qui leur correspond !\n",
        "Ils ne sont pas inclus dans le dictionnaire qui nous servira d'ensemble d'entrainement."
      ]
    },
    {
      "cell_type": "code",
      "execution_count": null,
      "metadata": {
        "execution": {
          "iopub.execute_input": "2025-01-11T16:00:23.434767Z",
          "iopub.status.busy": "2025-01-11T16:00:23.434403Z",
          "iopub.status.idle": "2025-01-11T16:00:23.524244Z",
          "shell.execute_reply": "2025-01-11T16:00:23.523588Z",
          "shell.execute_reply.started": "2025-01-11T16:00:23.434739Z"
        },
        "id": "_5wciJ57jnhk",
        "outputId": "b9096f10-f7a2-4209-fc66-42350f644ec5"
      },
      "outputs": [
        {
          "name": "stdout",
          "output_type": "stream",
          "text": [
            "\n",
            "Abstracts non-appariés :\n",
            "abstract-36404343.txt\n",
            "abstract-38022520.txt\n",
            "abstract-37614109.txt\n",
            "abstract-36944082.txt\n",
            "abstract-32017677.txt\n",
            "abstract-36944050.txt\n",
            "abstract-36891751.txt\n",
            "abstract-35081022.txt\n",
            "abstract-32091358.txt\n",
            "abstract-31625835.txt\n",
            "abstract-36066965.txt\n",
            "abstract-36519326.txt\n",
            "abstract-36525381.txt\n",
            "abstract-36314570.txt\n",
            "abstract-37833688.txt\n",
            "abstract-27423055.txt\n",
            "abstract-37796016.txt\n",
            "abstract-37026745.txt\n",
            "abstract-36068298.txt\n",
            "abstract-35324507.txt\n",
            "abstract-37726286.txt\n",
            "abstract-37102598.txt\n",
            "abstract-36951168.txt\n",
            "abstract-24279685.txt\n",
            "abstract-36944043.txt\n",
            "abstract-32946618.txt\n",
            "abstract-36372692.txt\n",
            "\n",
            "Articles non-appariés :\n"
          ]
        }
      ],
      "source": [
        "import os\n",
        "\n",
        "# Chemins dans Kaggle des dossiers contenant les fichiers\n",
        "dossier_abstracts = \"/kaggle/input/m-2-maliash-resume-darticles-scientifiques/train/OBS/abstracts_OBS/\"\n",
        "dossier_articles = \"/kaggle/input/m-2-maliash-resume-darticles-scientifiques/train/OBS/articles_OBS/\"\n",
        "\n",
        "\n",
        "# Liste des fichiers dans chaque dossier\n",
        "fichiers_abstracts = [f for f in os.listdir(dossier_abstracts) if f.startswith(\"abstract-\")]\n",
        "fichiers_articles = [f for f in os.listdir(dossier_articles) if f.startswith(\"article-\")]\n",
        "\n",
        "# Dictionnaires pour stocker les fichiers par identifiant\n",
        "abstracts = {}\n",
        "articles = {}\n",
        "\n",
        "# Remplir les dictionnaires avec les fichiers en fonction des identifiants\n",
        "for fichier in fichiers_abstracts:\n",
        "    # Extraire l'identifiant du fichier abstract\n",
        "    identifiant = fichier.split(\"-\")[1].split(\".\")[0]\n",
        "     #fichier.split(\"-\") : La méthode split(\"-\") divise le nom du fichier\n",
        "    #en une liste de sous-chaînes en utilisant le caractère \"-\" comme séparateur.\n",
        "    #Par exemple, si le fichier est \"abstract-123.txt\", fichier.split(\"-\") renverra la liste [\"abstract\", \"123.txt\"].\n",
        "    #fichier.split(\"-\")[1] : En prenant l'élément d'indice 1 de cette liste (c'est-à-dire \"123.txt\"), on obtient la partie du nom du fichier après le préfixe \"abstract-\".\n",
        "    #split(\".\")[0] : Ensuite, on divise cette chaîne \"123.txt\" avec split(\".\"), ce qui donne [\"123\", \"txt\"].\n",
        "    #On prend le premier élément de la liste (c'est-à-dire \"123\") qui est l'identifiant unique de l'abstract.\n",
        "    abstracts[identifiant] = fichier\n",
        "    #Cette ligne ajoute une entrée dans le dictionnaire abstracts, où la clé est : identifiant (par exemple \"123\")\n",
        "    #et la valeur est le nom du fichier : fichier (par exemple \"abstract-123.txt\").\n",
        "\n",
        "for fichier in fichiers_articles:\n",
        "    # Extraire l'identifiant du fichier article\n",
        "    identifiant = fichier.split(\"-\")[1].split(\".\")[0]\n",
        "    articles[identifiant] = fichier\n",
        "\n",
        "# Dictionnaire pour stocker les appariements\n",
        "appariements = {}\n",
        "\n",
        "# Liste des abstracts et articles non-appariés\n",
        "non_apparies_abstracts = []\n",
        "non_apparies_articles = []\n",
        "\n",
        "# Appariement des fichiers abstracts et articles par identifiant\n",
        "for identifiant in abstracts:\n",
        "    if identifiant in articles:\n",
        "        # Ajouter l'appariement au dictionnaire\n",
        "        appariements[identifiant] = {\n",
        "            \"abstract\": abstracts[identifiant],\n",
        "            \"article\": articles[identifiant]\n",
        "        }\n",
        "    else:\n",
        "        # Ajouter à la liste des abstracts non appariés\n",
        "        non_apparies_abstracts.append(abstracts[identifiant])\n",
        "\n",
        "# Vérifier les articles non-appariés\n",
        "for identifiant in articles:\n",
        "    if identifiant not in abstracts:\n",
        "        # Ajouter à la liste des articles non appariés\n",
        "        non_apparies_articles.append(articles[identifiant])\n",
        "\n",
        "# Affichage des appariements\n",
        "\"\"\"\n",
        "print(\"Appariements :\")\n",
        "for identifiant, fichiers in appariements.items():\n",
        "    print(f\"Identifiant {identifiant}:\")\n",
        "    print(f\"  Abstract: {fichiers['abstract']}\")\n",
        "    print(f\"  Article: {fichiers['article']}\")\n",
        "\"\"\"\n",
        "# Affichage des abstracts non-appariés\n",
        "print(\"\\nAbstracts non-appariés :\")\n",
        "for abstract in non_apparies_abstracts:\n",
        "    print(abstract)\n",
        "\n",
        "# Affichage des articles non-appariés\n",
        "print(\"\\nArticles non-appariés :\")\n",
        "for article in non_apparies_articles:\n",
        "    print(article)"
      ]
    },
    {
      "cell_type": "markdown",
      "metadata": {
        "id": "7axwPxrAd7Di"
      },
      "source": [
        "On retravaille un peu la forme de ce dictionnaire pour pouvoir le convertir au format \"dataset\" de Hugging face, nécessaire pour pouvoir entraîner le modèle choisi dessus.\n"
      ]
    },
    {
      "cell_type": "code",
      "execution_count": null,
      "metadata": {
        "execution": {
          "iopub.execute_input": "2025-01-11T16:00:28.291331Z",
          "iopub.status.busy": "2025-01-11T16:00:28.291025Z",
          "iopub.status.idle": "2025-01-11T16:00:34.104733Z",
          "shell.execute_reply": "2025-01-11T16:00:34.103917Z",
          "shell.execute_reply.started": "2025-01-11T16:00:28.291307Z"
        },
        "id": "wJ-fvqMz7ahj",
        "outputId": "5cc78080-3b1a-48ba-9db2-27872f4ec33c"
      },
      "outputs": [
        {
          "name": "stdout",
          "output_type": "stream",
          "text": [
            "Requirement already satisfied: datasets in /usr/local/lib/python3.10/dist-packages (3.2.0)\n",
            "Requirement already satisfied: filelock in /usr/local/lib/python3.10/dist-packages (from datasets) (3.16.1)\n",
            "Requirement already satisfied: numpy>=1.17 in /usr/local/lib/python3.10/dist-packages (from datasets) (1.26.4)\n",
            "Requirement already satisfied: pyarrow>=15.0.0 in /usr/local/lib/python3.10/dist-packages (from datasets) (18.1.0)\n",
            "Requirement already satisfied: dill<0.3.9,>=0.3.0 in /usr/local/lib/python3.10/dist-packages (from datasets) (0.3.8)\n",
            "Requirement already satisfied: pandas in /usr/local/lib/python3.10/dist-packages (from datasets) (2.1.4)\n",
            "Requirement already satisfied: requests>=2.32.2 in /usr/local/lib/python3.10/dist-packages (from datasets) (2.32.3)\n",
            "Requirement already satisfied: tqdm>=4.66.3 in /usr/local/lib/python3.10/dist-packages (from datasets) (4.66.5)\n",
            "Requirement already satisfied: xxhash in /usr/local/lib/python3.10/dist-packages (from datasets) (3.5.0)\n",
            "Requirement already satisfied: multiprocess<0.70.17 in /usr/local/lib/python3.10/dist-packages (from datasets) (0.70.16)\n",
            "Requirement already satisfied: fsspec<=2024.9.0,>=2023.1.0 in /usr/local/lib/python3.10/dist-packages (from fsspec[http]<=2024.9.0,>=2023.1.0->datasets) (2024.6.1)\n",
            "Requirement already satisfied: aiohttp in /usr/local/lib/python3.10/dist-packages (from datasets) (3.10.5)\n",
            "Requirement already satisfied: huggingface-hub>=0.23.0 in /usr/local/lib/python3.10/dist-packages (from datasets) (0.24.7)\n",
            "Requirement already satisfied: packaging in /usr/local/lib/python3.10/dist-packages (from datasets) (24.1)\n",
            "Requirement already satisfied: pyyaml>=5.1 in /usr/local/lib/python3.10/dist-packages (from datasets) (6.0.2)\n",
            "Requirement already satisfied: aiohappyeyeballs>=2.3.0 in /usr/local/lib/python3.10/dist-packages (from aiohttp->datasets) (2.4.0)\n",
            "Requirement already satisfied: aiosignal>=1.1.2 in /usr/local/lib/python3.10/dist-packages (from aiohttp->datasets) (1.3.1)\n",
            "Requirement already satisfied: attrs>=17.3.0 in /usr/local/lib/python3.10/dist-packages (from aiohttp->datasets) (24.2.0)\n",
            "Requirement already satisfied: frozenlist>=1.1.1 in /usr/local/lib/python3.10/dist-packages (from aiohttp->datasets) (1.4.1)\n",
            "Requirement already satisfied: multidict<7.0,>=4.5 in /usr/local/lib/python3.10/dist-packages (from aiohttp->datasets) (6.1.0)\n",
            "Requirement already satisfied: yarl<2.0,>=1.0 in /usr/local/lib/python3.10/dist-packages (from aiohttp->datasets) (1.11.1)\n",
            "Requirement already satisfied: async-timeout<5.0,>=4.0 in /usr/local/lib/python3.10/dist-packages (from aiohttp->datasets) (4.0.3)\n",
            "Requirement already satisfied: typing-extensions>=3.7.4.3 in /usr/local/lib/python3.10/dist-packages (from huggingface-hub>=0.23.0->datasets) (4.12.2)\n",
            "Requirement already satisfied: charset-normalizer<4,>=2 in /usr/local/lib/python3.10/dist-packages (from requests>=2.32.2->datasets) (3.3.2)\n",
            "Requirement already satisfied: idna<4,>=2.5 in /usr/local/lib/python3.10/dist-packages (from requests>=2.32.2->datasets) (3.10)\n",
            "Requirement already satisfied: urllib3<3,>=1.21.1 in /usr/local/lib/python3.10/dist-packages (from requests>=2.32.2->datasets) (2.2.3)\n",
            "Requirement already satisfied: certifi>=2017.4.17 in /usr/local/lib/python3.10/dist-packages (from requests>=2.32.2->datasets) (2024.8.30)\n",
            "Requirement already satisfied: python-dateutil>=2.8.2 in /usr/local/lib/python3.10/dist-packages (from pandas->datasets) (2.8.2)\n",
            "Requirement already satisfied: pytz>=2020.1 in /usr/local/lib/python3.10/dist-packages (from pandas->datasets) (2024.2)\n",
            "Requirement already satisfied: tzdata>=2022.1 in /usr/local/lib/python3.10/dist-packages (from pandas->datasets) (2024.1)\n",
            "Requirement already satisfied: six>=1.5 in /usr/local/lib/python3.10/dist-packages (from python-dateutil>=2.8.2->pandas->datasets) (1.16.0)\n",
            "Dataset({\n",
            "    features: ['identifiant', 'article', 'abstract'],\n",
            "    num_rows: 402\n",
            "})\n"
          ]
        }
      ],
      "source": [
        "!pip install -U datasets #le \"-U\" demande l'installation de la toute dernière version du package\n",
        "from datasets import Dataset #importe la classe Dataset de la bibliothèque datasets de Hugging Face.\n",
        "#Cette classe est utilisée pour manipuler des ensembles de données dans un format qui peut être utilisé pour l'entraînement de modèles issus d'Hugging Face.\n",
        "\n",
        "# Limiter le nombre de threads de JAX à 1 (pour éviter les problèmes dans kaggle)\n",
        "os.environ[\"JAX_NUM_THREADS\"] = \"1\"\n",
        "\n",
        "#Notre dictionnaire appariements n'est pas tout à fait sous la bonne forme pour être transformé en dataset de Hugging Face :\n",
        "#on le remanie donc pour qu'il ait cette bonne forme.\n",
        "\n",
        "# Initialisation des listes vides\n",
        "identifiants = []\n",
        "articles = []\n",
        "abstracts = []\n",
        "\n",
        "# Remplir les listes avec les données extraites du dictionnaire appariements\n",
        "for identifiant, values in appariements.items():\n",
        "    identifiants.append(identifiant)         # Ajout de l'identifiant\n",
        "    articles.append(values[\"article\"])      # Ajout de l'article\n",
        "    abstracts.append(values[\"abstract\"])    # Ajout de l'abstract\n",
        "\n",
        "# Créer un dictionnaire avec les listes\n",
        "data = {\n",
        "    \"identifiant\": identifiants,\n",
        "    \"article\": articles,\n",
        "    \"abstract\": abstracts\n",
        "}\n",
        "\n",
        "# Créer le Dataset en convertissant notre nouveau dictionnaire via l'instruction Dataset.from_dict() de Dataset\n",
        "dataset = Dataset.from_dict(data)\n",
        "\n",
        "print(dataset)"
      ]
    },
    {
      "cell_type": "markdown",
      "metadata": {
        "id": "qiwnmtH8Ix1U"
      },
      "source": [
        "## le fichier à utiliser pour l'entraînement du modèle sur les articles de type OBS sera donc \"dataset\""
      ]
    },
    {
      "cell_type": "markdown",
      "metadata": {
        "id": "CtRHIOSjIx1V"
      },
      "source": [
        "## Données du dossier RCT"
      ]
    },
    {
      "cell_type": "markdown",
      "metadata": {
        "id": "7Bj8PXVcIx1V"
      },
      "source": [
        "On procède de même pour les données des articles de type \"RCT\""
      ]
    },
    {
      "cell_type": "code",
      "execution_count": null,
      "metadata": {
        "execution": {
          "iopub.execute_input": "2024-12-30T22:31:52.628827Z",
          "iopub.status.busy": "2024-12-30T22:31:52.628490Z",
          "iopub.status.idle": "2024-12-30T22:31:52.691396Z",
          "shell.execute_reply": "2024-12-30T22:31:52.690382Z",
          "shell.execute_reply.started": "2024-12-30T22:31:52.628802Z"
        },
        "id": "AFx2P1KyIx1V",
        "outputId": "49e0e228-2238-4e10-c04d-613f77ebda44"
      },
      "outputs": [
        {
          "name": "stdout",
          "output_type": "stream",
          "text": [
            "\n",
            "Abstracts non-appariés :\n",
            "abstract-24164420.txt\n",
            "abstract-36082590.txt\n",
            "abstract-36872899.txt\n",
            "abstract-37030393.txt\n",
            "abstract-37722926.txt\n",
            "abstract-36451616.txt\n",
            "abstract-36094045.txt\n",
            "abstract-37157134.txt\n",
            "abstract-36877135.txt\n",
            "abstract-36289532.txt\n",
            "abstract-24266855.txt\n",
            "abstract-37565064.txt\n",
            "abstract-37614106.txt\n",
            "abstract-33153517.txt\n",
            "abstract-37562034.txt\n",
            "abstract-37690911.txt\n",
            "abstract-31431084.txt\n",
            "abstract-33984185.txt\n",
            "abstract-24268098.txt\n",
            "abstract-36542086.txt\n",
            "abstract-36053287.txt\n",
            "abstract-32418064.txt\n",
            "abstract-37302021.txt\n",
            "abstract-37463508.txt\n",
            "abstract-31507265.txt\n",
            "abstract-33674243.txt\n",
            "abstract-36271420.txt\n",
            "abstract-36129998.txt\n",
            "abstract-36525381.txt\n",
            "abstract-29172800.txt\n",
            "abstract-37392348.txt\n",
            "abstract-32868525.txt\n",
            "abstract-28961557.txt\n",
            "abstract-37551774.txt\n",
            "abstract-35986699.txt\n",
            "abstract-27421672.txt\n",
            "abstract-34713539.txt\n",
            "abstract-36503413.txt\n",
            "abstract-35751625.txt\n",
            "abstract-35982483.txt\n",
            "abstract-36309392.txt\n",
            "abstract-35974668.txt\n",
            "abstract-30394151.txt\n",
            "abstract-37217019.txt\n",
            "abstract-32869931.txt\n",
            "abstract-37639901.txt\n",
            "abstract-37379733.txt\n",
            "abstract-34724172.txt\n",
            "abstract-34984792.txt\n",
            "abstract-37605171.txt\n",
            "abstract-36321647.txt\n",
            "\n",
            "Articles non-appariés :\n",
            "article- 35751625.txt\n",
            "article- 32868525.txt\n",
            "article- 35982483.txt\n",
            "article- 26959498.txt\n",
            "article- 30982467.txt\n",
            "article- 24747297.txt\n",
            "article- 32482570.txt\n",
            "article-37728775.txt\n",
            "article- 31402562.txt\n",
            "article- 36068298.txt\n",
            "article- 36084331.txt\n",
            "article- 31431084.txt\n",
            "article- 36129998.txt\n",
            "article- 25003802.txt\n",
            "article- 24859440.txt\n",
            "article- 37030393.txt\n",
            "article- 27671861 .txt\n",
            "article- 31076287.txt\n",
            "article- 33984185.txt\n",
            "article- 32162274.txt\n",
            "article- 24401143.txt\n",
            "article- 24368640.txt\n",
            "article- 24593269.txt\n",
            "article- 36059000.txt\n",
            "article- 24708472.txt\n",
            "article- 34713539.txt\n",
            "article- 24533998.txt\n",
            "article-25474530.txt\n",
            "article- 34984792.txt\n",
            "article- 31507265.txt\n",
            "article- 27421971.txt\n",
            "article- 24671488.txt\n",
            "article- 24700992.txt\n",
            "article- 36525381.txt\n",
            "article- 36542086.txt\n",
            "article- 25616223.txt\n",
            "article-35671123 .txt\n",
            "article- 36891751.txt\n",
            "article- 25398189.txt\n",
            "article- 37302021.txt\n",
            "article- 36503413.txt\n",
            "article- 30394151.txt\n",
            "article- 24045440.txt\n",
            "article- 36878722.txt\n",
            "article- 29172800.txt\n",
            "article- 31436896.txt\n",
            "article- 29212509.txt\n",
            "article-32988385 .txt\n",
            "article- 24983707.txt\n",
            "article- 24379118.txt\n",
            "article- 24447332.txt\n",
            "article- 25123116.txt\n",
            "article- 24341382.txt\n",
            "article- 25038794.txt\n",
            "article- 29041941.txt\n",
            "article- 24666558.txt\n",
            "article- 24322060.txt\n",
            "article-35713933 .txt\n",
            "article-36631450.txt\n",
            "article-36095045.txt\n",
            "article-36469329.txt\n",
            "article- 26229189.txt\n",
            "article- 37562034.txt\n",
            "article- 30997149.txt\n",
            "article- 25588847.txt\n",
            "article- 36872899.txt\n",
            "article- 36066965.txt\n",
            "article- 37551774.txt\n",
            "article- 24859367.txt\n",
            "article- 30793375.txt\n",
            "article- 28671938.txt\n",
            "article- 31625835.txt\n",
            "article- 30997153.txt\n",
            "article-37766477.txt\n",
            "article- 36289532.txt\n",
            "article- 25123172.txt\n",
            "article- 25514459.txt\n",
            "article- 29490675.txt\n",
            "article- 36271420.txt\n",
            "article- 26993316.txt\n",
            "article- 27423055.txt\n",
            "article- 36082590.txt\n",
            "article- 33674243.txt\n",
            "article- 24354476 .txt\n",
            "article- 24618231 .txt\n",
            "article- 35974668.txt\n",
            "article- 24708443 .txt\n",
            "article- 32017677.txt\n",
            "article- 25083614.txt\n",
            "article- 29208026.txt\n",
            "article- 26468632.txt\n",
            "article- 26666236.txt\n",
            "article- 37463508.txt\n",
            "article- 34138698.txt\n",
            "article- 31969108.txt\n",
            "article- 24108196 .txt\n",
            "article- 32091358.txt\n",
            "article- 27645694.txt\n",
            "article- 30713721.txt\n",
            "article- 23732262.txt\n",
            "article- 24747090.txt\n",
            "article- 24999963.txt\n",
            "article- 24568148.txt\n",
            "article- 37379733.txt\n",
            "article- 24630150.txt\n",
            "article- 24506815.txt\n",
            "article- 29464843.txt\n",
            "article- 36321647.txt\n",
            "article- 32869931.txt\n",
            "article- 37392348.txt\n",
            "article- 24825528.txt\n",
            "article- 36669352.txt\n",
            "article- 37565064.txt\n",
            "article- 28961557.txt\n",
            "article- 24296904.txt\n",
            "article- 36631450.txt\n",
            "article- 30713722.txt\n",
            "article- 24597619.txt\n",
            "article-32562807.txt\n",
            "article- 34724172.txt\n",
            "article- 30008335.txt\n",
            "article- 24597650.txt\n",
            "article- 36451616.txt\n",
            "article- 30008335.txt\n",
            "article- 30886732 .txt\n",
            "article- 36053287.txt\n",
            "article- 30846389.txt\n",
            "article- 37217019.txt\n",
            "article- 37052929.txt\n",
            "article- 34184312.txt\n",
            "article- 37605171.txt\n",
            "article- 24378686.txt\n",
            "article- 35986699.txt\n",
            "article- 24781374.txt\n",
            "article- 37690911.txt\n",
            "article- 24521771.txt\n",
            "article- 33153517.txt\n",
            "article- 37157134.txt\n",
            "article- 24333515.txt\n",
            "article- 37722926.txt\n",
            "article-36446771.txt\n",
            "article- 24263324.txt\n",
            "article-38012031.txt\n",
            "article- 27600280.txt\n",
            "article- 24519331.txt\n",
            "article- 36309392.txt\n",
            "article- 25110374.txt\n",
            "article- 24036678.txt\n",
            "article- 24700991.txt\n",
            "article- 32316911.txt\n",
            "article- 36877135.txt\n",
            "article- 24518774.txt\n",
            "article- 24248149.txt\n",
            "article- 24448650.txt\n",
            "article- 25193416.txt\n",
            "article-37614109.txt\n",
            "article- 30554670.txt\n",
            "article- 25936892.txt\n",
            "article- 32164522.txt\n",
            "article- 24279685.txt\n",
            "article- 25474530.txt\n",
            "article- 29258549.txt\n",
            "article- 24184336.txt\n",
            "article- 24637869.txt\n"
          ]
        }
      ],
      "source": [
        "import os\n",
        "\n",
        "# Chemins dans Kaggle des dossiers contenant les fichiers\n",
        "dossier_abstracts = \"/kaggle/input/m-2-maliash-resume-darticles-scientifiques/train/RCT/abstracts_RCT/\"\n",
        "dossier_articles = \"/kaggle/input/m-2-maliash-resume-darticles-scientifiques/train/RCT/articles_RCT/\"\n",
        "\n",
        "\n",
        "# Liste des fichiers dans chaque dossier\n",
        "fichiers_abstracts = [f for f in os.listdir(dossier_abstracts) if f.startswith(\"abstract-\")]\n",
        "fichiers_articles = [f for f in os.listdir(dossier_articles) if f.startswith(\"article-\")]\n",
        "\n",
        "# Dictionnaires pour stocker les fichiers par identifiant\n",
        "abstracts = {}\n",
        "articles = {}\n",
        "\n",
        "# Remplir les dictionnaires avec les fichiers en fonction des identifiants\n",
        "for fichier in fichiers_abstracts:\n",
        "    # Extraire l'identifiant du fichier abstract\n",
        "    identifiant = fichier.split(\"-\")[1].split(\".\")[0]\n",
        "     #fichier.split(\"-\") : La méthode split(\"-\") divise le nom du fichier\n",
        "    #en une liste de sous-chaînes en utilisant le caractère \"-\" comme séparateur.\n",
        "    #Par exemple, si le fichier est \"abstract-123.txt\", fichier.split(\"-\") renverra la liste [\"abstract\", \"123.txt\"].\n",
        "    #fichier.split(\"-\")[1] : En prenant l'élément d'indice 1 de cette liste (c'est-à-dire \"123.txt\"), on obtient la partie du nom du fichier après le préfixe \"abstract-\".\n",
        "    #split(\".\")[0] : Ensuite, on divise cette chaîne \"123.txt\" avec split(\".\"), ce qui donne [\"123\", \"txt\"].\n",
        "    #On prend le premier élément de la liste (c'est-à-dire \"123\") qui est l'identifiant unique de l'abstract.\n",
        "    abstracts[identifiant] = fichier\n",
        "    #Cette ligne ajoute une entrée dans le dictionnaire abstracts, où la clé est : identifiant (par exemple \"123\")\n",
        "    #et la valeur est le nom du fichier : fichier (par exemple \"abstract-123.txt\").\n",
        "\n",
        "for fichier in fichiers_articles:\n",
        "    # Extraire l'identifiant du fichier article\n",
        "    identifiant = fichier.split(\"-\")[1].split(\".\")[0]\n",
        "    articles[identifiant] = fichier\n",
        "\n",
        "# Dictionnaire pour stocker les appariements\n",
        "appariements_RCT = {}\n",
        "\n",
        "# Liste des abstracts et articles non-appariés\n",
        "non_apparies_abstracts_RCT = []\n",
        "non_apparies_articles_RCT = []\n",
        "\n",
        "# Appariement des fichiers abstracts et articles par identifiant\n",
        "for identifiant in abstracts:\n",
        "    if identifiant in articles:\n",
        "        # Ajouter l'appariement au dictionnaire\n",
        "        appariements_RCT[identifiant] = {\n",
        "            \"abstract\": abstracts[identifiant],\n",
        "            \"article\": articles[identifiant]\n",
        "        }\n",
        "    else:\n",
        "        # Ajouter à la liste des abstracts non appariés\n",
        "        non_apparies_abstracts_RCT.append(abstracts[identifiant])\n",
        "\n",
        "# Vérifier les articles non-appariés\n",
        "for identifiant in articles:\n",
        "    if identifiant not in abstracts:\n",
        "        # Ajouter à la liste des articles non appariés\n",
        "        non_apparies_articles_RCT.append(articles[identifiant])\n",
        "\n",
        "# Affichage des appariements\n",
        "\"\"\"\n",
        "print(\"Appariements_RCT :\")\n",
        "for identifiant, fichiers in appariements_RCT.items():\n",
        "    print(f\"Identifiant {identifiant}:\")\n",
        "    print(f\"  Abstract: {fichiers['abstract']}\")\n",
        "    print(f\"  Article: {fichiers['article']}\")\n",
        "\"\"\"\n",
        "# Affichage des abstracts non-appariés\n",
        "print(\"\\nAbstracts non-appariés :\")\n",
        "for abstract in non_apparies_abstracts_RCT:\n",
        "    print(abstract)\n",
        "\n",
        "# Affichage des articles non-appariés\n",
        "print(\"\\nArticles non-appariés :\")\n",
        "for article in non_apparies_articles_RCT:\n",
        "    print(article)"
      ]
    },
    {
      "cell_type": "code",
      "execution_count": null,
      "metadata": {
        "execution": {
          "iopub.execute_input": "2024-12-30T22:31:52.692542Z",
          "iopub.status.busy": "2024-12-30T22:31:52.692252Z",
          "iopub.status.idle": "2024-12-30T22:31:56.234047Z",
          "shell.execute_reply": "2024-12-30T22:31:56.232991Z",
          "shell.execute_reply.started": "2024-12-30T22:31:52.692507Z"
        },
        "id": "h4dXRvASIx1W",
        "outputId": "41870eef-479e-4d1e-92a3-dda54810511c"
      },
      "outputs": [
        {
          "name": "stdout",
          "output_type": "stream",
          "text": [
            "Requirement already satisfied: datasets in /usr/local/lib/python3.10/dist-packages (3.2.0)\n",
            "Requirement already satisfied: filelock in /usr/local/lib/python3.10/dist-packages (from datasets) (3.16.1)\n",
            "Requirement already satisfied: numpy>=1.17 in /usr/local/lib/python3.10/dist-packages (from datasets) (1.26.4)\n",
            "Requirement already satisfied: pyarrow>=15.0.0 in /usr/local/lib/python3.10/dist-packages (from datasets) (18.1.0)\n",
            "Requirement already satisfied: dill<0.3.9,>=0.3.0 in /usr/local/lib/python3.10/dist-packages (from datasets) (0.3.8)\n",
            "Requirement already satisfied: pandas in /usr/local/lib/python3.10/dist-packages (from datasets) (2.1.4)\n",
            "Requirement already satisfied: requests>=2.32.2 in /usr/local/lib/python3.10/dist-packages (from datasets) (2.32.3)\n",
            "Requirement already satisfied: tqdm>=4.66.3 in /usr/local/lib/python3.10/dist-packages (from datasets) (4.66.5)\n",
            "Requirement already satisfied: xxhash in /usr/local/lib/python3.10/dist-packages (from datasets) (3.5.0)\n",
            "Requirement already satisfied: multiprocess<0.70.17 in /usr/local/lib/python3.10/dist-packages (from datasets) (0.70.16)\n",
            "Requirement already satisfied: fsspec<=2024.9.0,>=2023.1.0 in /usr/local/lib/python3.10/dist-packages (from fsspec[http]<=2024.9.0,>=2023.1.0->datasets) (2024.6.1)\n",
            "Requirement already satisfied: aiohttp in /usr/local/lib/python3.10/dist-packages (from datasets) (3.10.5)\n",
            "Requirement already satisfied: huggingface-hub>=0.23.0 in /usr/local/lib/python3.10/dist-packages (from datasets) (0.24.7)\n",
            "Requirement already satisfied: packaging in /usr/local/lib/python3.10/dist-packages (from datasets) (24.1)\n",
            "Requirement already satisfied: pyyaml>=5.1 in /usr/local/lib/python3.10/dist-packages (from datasets) (6.0.2)\n",
            "Requirement already satisfied: aiohappyeyeballs>=2.3.0 in /usr/local/lib/python3.10/dist-packages (from aiohttp->datasets) (2.4.0)\n",
            "Requirement already satisfied: aiosignal>=1.1.2 in /usr/local/lib/python3.10/dist-packages (from aiohttp->datasets) (1.3.1)\n",
            "Requirement already satisfied: attrs>=17.3.0 in /usr/local/lib/python3.10/dist-packages (from aiohttp->datasets) (24.2.0)\n",
            "Requirement already satisfied: frozenlist>=1.1.1 in /usr/local/lib/python3.10/dist-packages (from aiohttp->datasets) (1.4.1)\n",
            "Requirement already satisfied: multidict<7.0,>=4.5 in /usr/local/lib/python3.10/dist-packages (from aiohttp->datasets) (6.1.0)\n",
            "Requirement already satisfied: yarl<2.0,>=1.0 in /usr/local/lib/python3.10/dist-packages (from aiohttp->datasets) (1.11.1)\n",
            "Requirement already satisfied: async-timeout<5.0,>=4.0 in /usr/local/lib/python3.10/dist-packages (from aiohttp->datasets) (4.0.3)\n",
            "Requirement already satisfied: typing-extensions>=3.7.4.3 in /usr/local/lib/python3.10/dist-packages (from huggingface-hub>=0.23.0->datasets) (4.12.2)\n",
            "Requirement already satisfied: charset-normalizer<4,>=2 in /usr/local/lib/python3.10/dist-packages (from requests>=2.32.2->datasets) (3.3.2)\n",
            "Requirement already satisfied: idna<4,>=2.5 in /usr/local/lib/python3.10/dist-packages (from requests>=2.32.2->datasets) (3.10)\n",
            "Requirement already satisfied: urllib3<3,>=1.21.1 in /usr/local/lib/python3.10/dist-packages (from requests>=2.32.2->datasets) (2.2.3)\n",
            "Requirement already satisfied: certifi>=2017.4.17 in /usr/local/lib/python3.10/dist-packages (from requests>=2.32.2->datasets) (2024.8.30)\n",
            "Requirement already satisfied: python-dateutil>=2.8.2 in /usr/local/lib/python3.10/dist-packages (from pandas->datasets) (2.8.2)\n",
            "Requirement already satisfied: pytz>=2020.1 in /usr/local/lib/python3.10/dist-packages (from pandas->datasets) (2024.2)\n",
            "Requirement already satisfied: tzdata>=2022.1 in /usr/local/lib/python3.10/dist-packages (from pandas->datasets) (2024.1)\n",
            "Requirement already satisfied: six>=1.5 in /usr/local/lib/python3.10/dist-packages (from python-dateutil>=2.8.2->pandas->datasets) (1.16.0)\n"
          ]
        }
      ],
      "source": [
        "!pip install -U datasets #le \"-U\" demande l'installation de la toute dernière version du package\n",
        "from datasets import Dataset #importe la classe Dataset de la bibliothèque datasets de Hugging Face.\n",
        "#Cette classe est utilisée pour manipuler des ensembles de données dans un format qui peut être utilisé pour l'entraînement de modèles issus d'Hugging Face.\n",
        "\n",
        "# Limiter le nombre de threads de JAX à 1 (pour éviter les problèmes dans kaggle)\n",
        "os.environ[\"JAX_NUM_THREADS\"] = \"1\"\n",
        "\n",
        "#Notre dictionnaire appariements_RCT n'est pas tout à fait sous la bonne forme pour être transformé en dataset de Hugging Face :\n",
        "#on le remanie donc pour qu'il ait cette bonne forme.\n",
        "\n",
        "# Initialisation des listes vides\n",
        "identifiants = []\n",
        "articles = []\n",
        "abstracts = []\n",
        "\n",
        "# Remplir les listes avec les données extraites du dictionnaire appariements\n",
        "for identifiant, values in appariements_RCT.items():\n",
        "    identifiants.append(identifiant)         # Ajout de l'identifiant\n",
        "    articles.append(values[\"article\"])      # Ajout de l'article\n",
        "    abstracts.append(values[\"abstract\"])    # Ajout de l'abstract\n",
        "\n",
        "# Créer un dictionnaire avec les listes\n",
        "data = {\n",
        "    \"identifiant\": identifiants,\n",
        "    \"article\": articles,\n",
        "    \"abstract\": abstracts\n",
        "}\n",
        "\n",
        "# Créer le Dataset en convertissant notre nouveau dictionnaire via l'instruction Dataset.from_dict() de Dataset\n",
        "dataset_RCT = Dataset.from_dict(data)\n",
        "\n",
        "#print(dataset_RCT)"
      ]
    },
    {
      "cell_type": "markdown",
      "metadata": {
        "id": "Px9RlK32Ix1W"
      },
      "source": [
        "## Le fichier à utiliser pour l'entrainement sur les données RCT sera donc \"dataset_RCT\""
      ]
    },
    {
      "cell_type": "markdown",
      "metadata": {
        "id": "-tEaaQUDIx1X"
      },
      "source": [
        "# Essai du modèle bigbird-pegasus-large-arxiv"
      ]
    },
    {
      "cell_type": "markdown",
      "metadata": {
        "id": "fUiZk0D9q-c1"
      },
      "source": [
        "Notre corpus d'articles scientifiques à résumer est constitué de textes longs.\n",
        "C'est un facteur déterminant dans le choix du modèle - et dans ses difficultés...\n",
        "\n",
        "Le modèle bigbird-pegasus-large-arxiv a pour singularité, par rapport à des modèles de type BERT, d'utiliser une version modifiée de l'architecture Transformer : il a un mécanisme d'attention sparse (attention réduite) par blocs. Concrètement, cela signifie qu'au lieu de calculer l'attention entre toutes les positions du texte, il divise la séquence (le texte) en blocs et applique l'attention uniquement au sein de ces blocs, ainsi qu'entre certains blocs (par exemple les blocs voisins ou un échantillonnage aléatoire de blocs).\n",
        "\n",
        "Cela permet d'être économe en temps de calcul : avec un modèle de type BERT, ce dernier croissait en $O(N^2)$, où $N$ représente la taille du texte (ou document). Avec le mécanisme d'attention sparse par blocs, on tombe à des temps de calcul en $O(N.log(N))$ ou en $O(N)$.\n",
        "\n",
        "Pour nos articles scientifiques, qui sont des documents longs, ce type de modèles, avec attention sparse par blocs, peut donc être particulièrement pertinent."
      ]
    },
    {
      "cell_type": "markdown",
      "metadata": {
        "id": "eDcpedpneMHC"
      },
      "source": [
        "On convertit le texte des articles et des résumés (ici ceux de type \"OBS\") en séquences de tokens pour le modèle bigbird-pegasus-large-arxiv."
      ]
    },
    {
      "cell_type": "code",
      "execution_count": null,
      "metadata": {
        "execution": {
          "iopub.execute_input": "2024-12-30T22:31:56.235573Z",
          "iopub.status.busy": "2024-12-30T22:31:56.235227Z",
          "iopub.status.idle": "2024-12-30T22:31:56.241697Z",
          "shell.execute_reply": "2024-12-30T22:31:56.240793Z",
          "shell.execute_reply.started": "2024-12-30T22:31:56.235542Z"
        },
        "id": "41fMtp6-pHgH",
        "outputId": "d1257934-0d5a-4045-b058-be1ac0dbfd30"
      },
      "outputs": [
        {
          "data": {
            "text/plain": [
              "'\\n# Fonction pour préparer les données (tokenisation) pour un modèle chargé depuis huggingface\\ndef tokenize_function(examples):\\n    # Tokeniser les articles et les résumés\\n    inputs = tokenizer(examples[\\'article\\'], truncation=True, padding=\"max_length\", max_length=1024) #données en entrée\\n    #examples[\\'article\\'] : C\\'est la donnée brute (l\\'article) fournie à la fonction sous forme de texte.\\n    #Cette donnée vient d\\'un Dataset ou d\\'une DataLoader et est passée sous forme de liste de textes (articles).\\n    #tokenizer(examples[\\'article\\']) : Cette ligne utilise le tokenizer pour convertir le texte brut des articles en une séquence de tokens.\\n    #Le tokenizer transforme le texte en un format compréhensible par le modèle (i.e., des IDs de tokens).\\n\\n    #truncation=True : Si le texte est plus long que la longueur maximale définie, il sera tronqué pour correspondre à cette longueur maximale.\\n\\n    #padding=\"max_length\" : Cela permet de remplir (padd) le texte pour qu\\'il atteigne la longueur maximale spécifiée.\\n    #Si un article est plus court que la longueur maximale, des tokens de remplissage seront ajoutés.\\n\\n    #max_length=1024 : La longueur maximale des séquences d\\'entrée est fixée à 1024 tokens. Si un article est plus long que cela, il sera tronqué à 1024 tokens.\\n\\n    targets = tokenizer(examples[\\'abstract\\'], truncation=True, padding=\"max_length\", max_length=256)#données cible de l\\'entrainement du modèle\\n\\n    # Retourner les inputs et targets sous la forme de dictionnaires\\n    inputs[\"labels\"] = targets[\"input_ids\"]\\n    #inputs[\"labels\"] : Dans un modèle de génération de texte comme BigBirdPegasus, les labels sont les séquences que le modèle doit prédire\\n    #(les résumés dans ce cas). En d\\'autres termes, le modèle apprend à prédire les tokens du résumé à partir des tokens de l\\'article.\\n    #targets[\"input_ids\"] : input_ids est la représentation des tokens du résumé (les IDs numériques des tokens). Ces tokens sont utilisés comme labels lors de l\\'entraînement,\\n    #c\\'est-à-dire que le modèle essaiera de prédire ces input_ids lorsqu\\'il verra les tokens des articles.\\n    #Cette ligne ajoute donc les input_ids des résumés dans la clé \"labels\" des données d\\'entrée, qui est utilisée pendant l\\'entraînement pour calculer la perte\\n    #entre les prédictions du modèle et les résumés réels.\\n    return inputs\\n'"
            ]
          },
          "execution_count": 8,
          "metadata": {},
          "output_type": "execute_result"
        }
      ],
      "source": [
        "\n",
        "# Fonction pour préparer les données (tokenisation) pour un modèle chargé depuis huggingface\n",
        "def tokenize_function(examples):\n",
        "    # Tokeniser les articles et les résumés\n",
        "    inputs = tokenizer(examples['article'], truncation=True, padding=\"max_length\", max_length=1024) #données en entrée\n",
        "    #examples['article'] : C'est la donnée brute (l'article) fournie à la fonction sous forme de texte.\n",
        "    #Cette donnée vient d'un Dataset ou d'une DataLoader et est passée sous forme de liste de textes (articles).\n",
        "    #tokenizer(examples['article']) : Cette ligne utilise le tokenizer pour convertir le texte brut des articles en une séquence de tokens.\n",
        "    #Le tokenizer transforme le texte en un format compréhensible par le modèle (i.e., des IDs de tokens).\n",
        "\n",
        "    #truncation=True : Si le texte est plus long que la longueur maximale définie, il sera tronqué pour correspondre à cette longueur maximale.\n",
        "\n",
        "    #padding=\"max_length\" : Cela permet de remplir (padd) le texte pour qu'il atteigne la longueur maximale spécifiée.\n",
        "    #Si un article est plus court que la longueur maximale, des tokens de remplissage seront ajoutés.\n",
        "\n",
        "    #max_length=1024 : La longueur maximale des séquences d'entrée est fixée à 1024 tokens. Si un article est plus long que cela, il sera tronqué à 1024 tokens.\n",
        "\n",
        "    targets = tokenizer(examples['abstract'], truncation=True, padding=\"max_length\", max_length=256)#données cible de l'entrainement du modèle\n",
        "\n",
        "    # Retourner les inputs et targets sous la forme de dictionnaires\n",
        "    inputs[\"labels\"] = targets[\"input_ids\"]\n",
        "    #inputs[\"labels\"] : Dans un modèle de génération de texte comme BigBirdPegasus, les labels sont les séquences que le modèle doit prédire\n",
        "    #(les résumés dans ce cas). En d'autres termes, le modèle apprend à prédire les tokens du résumé à partir des tokens de l'article.\n",
        "    #targets[\"input_ids\"] : input_ids est la représentation des tokens du résumé (les IDs numériques des tokens). Ces tokens sont utilisés comme labels lors de l'entraînement,\n",
        "    #c'est-à-dire que le modèle essaiera de prédire ces input_ids lorsqu'il verra les tokens des articles.\n",
        "    #Cette ligne ajoute donc les input_ids des résumés dans la clé \"labels\" des données d'entrée, qui est utilisée pendant l'entraînement pour calculer la perte\n",
        "    #entre les prédictions du modèle et les résumés réels.\n",
        "    return inputs\n"
      ]
    },
    {
      "cell_type": "markdown",
      "metadata": {
        "id": "TxbTu-oNDOC4"
      },
      "source": [
        "## Chargement du modèle bigbird-pegasus-large-arxiv\n",
        "\n"
      ]
    },
    {
      "cell_type": "code",
      "execution_count": null,
      "metadata": {
        "execution": {
          "iopub.execute_input": "2024-12-30T22:31:56.244812Z",
          "iopub.status.busy": "2024-12-30T22:31:56.244553Z",
          "iopub.status.idle": "2024-12-30T22:31:56.263509Z",
          "shell.execute_reply": "2024-12-30T22:31:56.262562Z",
          "shell.execute_reply.started": "2024-12-30T22:31:56.244791Z"
        },
        "id": "j1WNnycYXvQM",
        "outputId": "89d58390-0900-4b3b-f348-a00bb02a5e7c"
      },
      "outputs": [
        {
          "data": {
            "text/plain": [
              "'\\nfrom transformers import BigBirdPegasusForConditionalGeneration, AutoTokenizer\\nimport torch\\nfrom transformers import TrainingArguments, Trainer # Import TrainingArguments and Trainer\\n\\n#Instancier le tokenizer pour le modèle pegasus\\n#tokenizer = AutoTokenizer.from_pretrained(\"/kaggle/input/bigbird-pegasus-large-arxiv/\")\\ntokenizer = AutoTokenizer.from_pretrained(\"google/bigbird-pegasus-large-arxiv\")\\n#chargement du modèle :\\n# by default encoder-attention is `block_sparse` with num_random_blocks=3, block_size=64/par défaut l\\'encoder-attention est \"block sparse\"\\n#avec num_random_blocks=3 et block_size=64\\n#model = BigBirdPegasusForConditionalGeneration.from_pretrained(\"/kaggle/input/bigbird-pegasus-large-arxiv/\",\\nmodel = BigBirdPegasusForConditionalGeneration.from_pretrained(\"google/bigbird-pegasus-large-arxiv\",\\n                                                               return_dict=True,\\n                                                               torch_dtype=torch.float16,\\n                                                               device_map=\"auto\")\\n'"
            ]
          },
          "execution_count": 9,
          "metadata": {},
          "output_type": "execute_result"
        }
      ],
      "source": [
        "\n",
        "from transformers import BigBirdPegasusForConditionalGeneration, AutoTokenizer\n",
        "import torch\n",
        "from transformers import TrainingArguments, Trainer # Import TrainingArguments and Trainer\n",
        "\n",
        "#Instancier le tokenizer pour le modèle pegasus\n",
        "#tokenizer = AutoTokenizer.from_pretrained(\"/kaggle/input/bigbird-pegasus-large-arxiv/\")\n",
        "tokenizer = AutoTokenizer.from_pretrained(\"google/bigbird-pegasus-large-arxiv\")\n",
        "#chargement du modèle :\n",
        "# by default encoder-attention is `block_sparse` with num_random_blocks=3, block_size=64/par défaut l'encoder-attention est \"block sparse\"\n",
        "#avec num_random_blocks=3 et block_size=64\n",
        "#model = BigBirdPegasusForConditionalGeneration.from_pretrained(\"/kaggle/input/bigbird-pegasus-large-arxiv/\",\n",
        "model = BigBirdPegasusForConditionalGeneration.from_pretrained(\"google/bigbird-pegasus-large-arxiv\",\n",
        "                                                               return_dict=True,\n",
        "                                                               torch_dtype=torch.float16,\n",
        "                                                               device_map=\"auto\")\n",
        "\n",
        "######################Options pour modifier la taille et le nombre des blocs d'attention :\n",
        "# decoder attention type can't be changed & will be \"original_full\"\n",
        "# you can change `attention_type` (encoder only) to full attention like this:\n",
        "##model = BigBirdPegasusForConditionalGeneration.from_pretrained(\"google/bigbird-pegasus-large-arxiv\", attention_type=\"original_full\")\n",
        "\n",
        "# you can change `block_size` & `num_random_blocks` like this:\n",
        "##model = BigBirdPegasusForConditionalGeneration.from_pretrained(\"google/bigbird-pegasus-large-arxiv\", block_size=16, num_random_blocks=2)\n",
        "######################\n",
        "\n"
      ]
    },
    {
      "cell_type": "markdown",
      "metadata": {
        "id": "lv6NadX5Ix1Z"
      },
      "source": [
        "## Entrainement du modèle bigbird-pegasus-large-arxiv et conclusions sur ce modèle pour notre compétition kaggle"
      ]
    },
    {
      "cell_type": "markdown",
      "metadata": {
        "id": "s9i3nuomeifY"
      },
      "source": [
        "On paramètre l'entraînement du modèle.\n",
        "\n",
        "Problème : même en modifiant les paramètres de training_args comme ci-dessous, pour tenter de consommer moins de mémoire, l'entraînement de ce modèle fait planter la session kaggle car il consomme trop de mémoire - y compris en utilisant les GPU 100, ceux qui comportent le plus de mémoire sur kaggle.\n",
        "Si bigbird-pegasus-large-arxiv est performant en temps de calcul, en revanche, il ne l'est pas encore assez pour ce qui est de l'utilisation de la mémoire - et ce modèle n'existe que dans sa version \"large\".\n",
        "\n",
        "Nous allons donc tester un autre modèle : bart-large-cnn."
      ]
    },
    {
      "cell_type": "code",
      "execution_count": null,
      "metadata": {
        "execution": {
          "iopub.execute_input": "2024-12-30T22:31:56.265739Z",
          "iopub.status.busy": "2024-12-30T22:31:56.265505Z",
          "iopub.status.idle": "2024-12-30T22:31:56.282975Z",
          "shell.execute_reply": "2024-12-30T22:31:56.282172Z",
          "shell.execute_reply.started": "2024-12-30T22:31:56.265719Z"
        },
        "id": "9_UU-nmJqoiQ",
        "outputId": "08af7291-0207-4cbf-b546-3431e5c94376"
      },
      "outputs": [
        {
          "data": {
            "text/plain": [
              "'\\n# Appliquer la tokenisation\\ntokenized_datasets = dataset.map(tokenize_function, batched=True)\\n\\n# Définir les arguments d\\'entraînement\\ntraining_args = TrainingArguments(\\n    output_dir=\"./bigbird_pegasus_finetuned\",  # Répertoire de sortie pour enregistrer les résultats\\n    evaluation_strategy=\"epoch\",  # Évaluer après chaque époque\\n    learning_rate=2e-5,  # Taux d\\'apprentissage\\n    per_device_train_batch_size=1, #2 je réduis pour éviter de planter kaggle,  # Taille du batch pour l\\'entraînement\\n    per_device_eval_batch_size=1, #2 idem,   # Taille du batch pour l\\'évaluation\\n    gradient_accumulation_steps=8,  # Accumuler les gradients sur 8 batches avant la mise à jour (réduit l\\'utilisation de la mémoire, toujours pour éviter de planter kaggle)\\n                                    #cela \"simule\" une taille de batch plus grande que ce qu\\'elle n\\'est en réalité ici\\n    fp16=False,  # Activer l\\'entraînement en 16-bit - toujours pour éviter de planter kaggle\\n    num_train_epochs=3,  # Nombre d\\'époques d\\'entraînement\\n    dataloader_num_workers=4,  # Utiliser 4 processus pour charger les données en parallèle\\n    gradient_checkpointing=True,  # Activer gradient checkpointing\\n    save_steps=500,  # Sauvegarder moins souvent\\n    weight_decay=0.01,  # L2 regularization\\n    save_total_limit=2,  # Limite du nombre de sauvegardes du modèle\\n    logging_dir=\"./logs\",  # Répertoire pour les logs\\n    logging_steps=100,  # Fréquence des logs\\n    report_to=\"tensorboard\",  # Optionnel : Utiliser TensorBoard pour la visualisation des métriques\\n)\\n\\n# Créer un objet Trainer\\ntrainer = Trainer(\\n    model=model,  # Le modèle à fine-tuner\\n    args=training_args,  # Les arguments d\\'entraînement\\n    train_dataset=train_dataset,  # Jeu d\\'entraînement\\n    eval_dataset=val_dataset,  # Jeu de validation\\n    compute_metrics=compute_metrics,  # Fonction pour calculer les métriques - elle nous permettra d\\'utiliser le score \"ROUGE\"\\n)\\n\\n# Lancer l\\'entraînement\\ntrainer.train()\\n\\n\\n# Sauvegarder le modèle fine-tuné\\ntrainer.save_model(\"./bigbird_pegasus_finetuned\")\\n\\n'"
            ]
          },
          "execution_count": 10,
          "metadata": {},
          "output_type": "execute_result"
        }
      ],
      "source": [
        "\n",
        "# Appliquer la tokenisation\n",
        "tokenized_datasets = dataset.map(tokenize_function, batched=True)\n",
        "\n",
        "# Définir les arguments d'entraînement\n",
        "training_args = TrainingArguments(\n",
        "    output_dir=\"./bigbird_pegasus_finetuned\",  # Répertoire de sortie pour enregistrer les résultats\n",
        "    evaluation_strategy=\"epoch\",  # Évaluer après chaque époque\n",
        "    learning_rate=2e-5,  # Taux d'apprentissage\n",
        "    per_device_train_batch_size=1, #2 je réduis pour éviter de planter kaggle,  # Taille du batch pour l'entraînement\n",
        "    per_device_eval_batch_size=1, #2 idem,   # Taille du batch pour l'évaluation\n",
        "    gradient_accumulation_steps=8,  # Accumuler les gradients sur 8 batches avant la mise à jour (réduit l'utilisation de la mémoire, toujours pour éviter de planter kaggle)\n",
        "                                    #cela \"simule\" une taille de batch plus grande que ce qu'elle n'est en réalité ici\n",
        "    fp16=False,  # Activer l'entraînement en 16-bit - toujours pour éviter de planter kaggle\n",
        "    num_train_epochs=3,  # Nombre d'époques d'entraînement\n",
        "    dataloader_num_workers=4,  # Utiliser 4 processus pour charger les données en parallèle\n",
        "    gradient_checkpointing=True,  # Activer gradient checkpointing\n",
        "    save_steps=500,  # Sauvegarder moins souvent\n",
        "    weight_decay=0.01,  # L2 regularization\n",
        "    save_total_limit=2,  # Limite du nombre de sauvegardes du modèle\n",
        "    logging_dir=\"./logs\",  # Répertoire pour les logs\n",
        "    logging_steps=100,  # Fréquence des logs\n",
        "    report_to=\"tensorboard\",  # Optionnel : Utiliser TensorBoard pour la visualisation des métriques\n",
        ")\n",
        "\n",
        "# Créer un objet Trainer\n",
        "trainer = Trainer(\n",
        "    model=model,  # Le modèle à fine-tuner\n",
        "    args=training_args,  # Les arguments d'entraînement\n",
        "    train_dataset=train_dataset,  # Jeu d'entraînement\n",
        "    eval_dataset=val_dataset,  # Jeu de validation\n",
        "    compute_metrics=compute_metrics,  # Fonction pour calculer les métriques - elle nous permettra d'utiliser le score \"ROUGE\"\n",
        ")\n",
        "\n",
        "# Lancer l'entraînement\n",
        "trainer.train()\n",
        "\n",
        "\n",
        "# Sauvegarder le modèle fine-tuné\n",
        "trainer.save_model(\"./bigbird_pegasus_finetuned\")\n",
        "\n"
      ]
    },
    {
      "cell_type": "markdown",
      "metadata": {
        "id": "q4yG8eMkIx1a"
      },
      "source": [
        "# Essai du modèle Bart-large-cnn seul"
      ]
    },
    {
      "cell_type": "markdown",
      "metadata": {
        "id": "_ogvtW3usO7O"
      },
      "source": [
        "BART est un modèle de transformer encodeur-décodeur (seq2seq : \"sequence to séquence\") avec un encodeur bidirectionnel (similaire à BERT) et un décodeur autoregressif (similaire à GPT).\n",
        "Il est donc pré-entraîné en masquant des parties du texte et en apprenant à prédire ces parties - comme si on lui demandait de débruiter un texte bruité.\n",
        "Il utilise une attention dense classique pour un transformer, où chaque token de l'entrée prend en compte tous les autres tokens de la séquence. Cela le handicape donc pour nos articles longs (comme tous les modèles à attention dense classique).\n",
        "\n",
        "Mais il peut néanmoins rester un parti intéressant, étant donnée sa consommation de mémoire inférieure à bigbird-pegasus.\n",
        "\n",
        "Sera-t-il suffisamment efficace pour la tâche envisagée ? Nous le testons \"à la volée\", sans le fine-tuner, sur quelques articles, pour commencer."
      ]
    },
    {
      "cell_type": "code",
      "execution_count": null,
      "metadata": {
        "id": "vMxRaXY2Ix1b"
      },
      "outputs": [],
      "source": [
        "import random\n",
        "from datasets import Dataset\n",
        "from transformers import BartForConditionalGeneration, BartTokenizer\n",
        "from rouge_score import rouge_scorer\n",
        "import torch\n",
        "\n",
        "# Charge le modèle BART et le tokenizer\n",
        "tokenizer = BartTokenizer.from_pretrained(\"facebook/bart-large-cnn\")\n",
        "model = BartForConditionalGeneration.from_pretrained(\"facebook/bart-large-cnn\")"
      ]
    },
    {
      "cell_type": "markdown",
      "metadata": {
        "id": "3lrf3AifIx1b"
      },
      "source": [
        "Ici on utilise donc simplement le modèle préentraîné BART pour générer des résumés à partir d'articles scientifiques du train set, qu'on compare ensuite avec leurs résumés de référence (que nous avons, puisque nous sommes dans le train set). On calcule ensuite leur score ROUGE-2 pour évaluer la qualité des résumés générés."
      ]
    },
    {
      "cell_type": "code",
      "execution_count": null,
      "metadata": {
        "id": "GBUnuDiEIx1b"
      },
      "outputs": [],
      "source": [
        "from transformers import BartForConditionalGeneration, BartTokenizer\n",
        "from rouge_score import rouge_scorer\n",
        "import os\n",
        "import random\n",
        "\n",
        "# Charger le modèle BART et le tokenizer\n",
        "tokenizer = BartTokenizer.from_pretrained(\"facebook/bart-large-cnn\")\n",
        "model = BartForConditionalGeneration.from_pretrained(\"facebook/bart-large-cnn\")\n",
        "\n",
        "# Chemins vers les dossiers des articles et des résumés de référence\n",
        "dossier_articles = \"/kaggle/input/m-2-maliash-resume-darticles-scientifiques/train/OBS/articles_OBS/\"\n",
        "dossier_resumes = \"/kaggle/input/m-2-maliash-resume-darticles-scientifiques/train/OBS/abstracts_OBS/\"\n",
        "\n",
        "# Charger les articles et leurs résumés de référence\n",
        "fichiers_articles = [f for f in os.listdir(dossier_articles) if f.startswith(\"article-\")]\n",
        "articles = {}\n",
        "resumes_reference = {}\n",
        "\n",
        "def lire_fichier(filepath):\n",
        "    try:\n",
        "        with open(filepath, 'r', encoding='utf-8') as f:\n",
        "            return f.read()\n",
        "    except UnicodeDecodeError:\n",
        "        with open(filepath, 'r', encoding='latin-1') as f:\n",
        "            return f.read()\n",
        "\n",
        "for fichier in fichiers_articles:\n",
        "    identifiant = fichier.split(\"-\")[1].split(\".\")[0]\n",
        "    articles[identifiant] = lire_fichier(os.path.join(dossier_articles, fichier))\n",
        "    resumes_reference[identifiant] = lire_fichier(os.path.join(dossier_resumes, f\"abstract-{identifiant}.txt\"))\n",
        "\n",
        "# Sélectionner 5 articles aléatoires\n",
        "random.seed(42)  # Pour garantir la reproductibilité\n",
        "selected_ids = random.sample(list(articles.keys()), 5)\n",
        "\n",
        "# Stocker les articles, résumés générés et scores\n",
        "resumes_generes = []\n",
        "rouge_scores = []\n",
        "\n",
        "# Fonction pour résumer un texte avec BART\n",
        "def resumer_texte(texte, max_length=130, min_length=30, length_penalty=2.0, num_beams=4):\n",
        "    inputs = tokenizer.encode(\"summarize: \" + texte, return_tensors=\"pt\", max_length=1024, truncation=True)\n",
        "    summary_ids = model.generate(\n",
        "        inputs,\n",
        "        max_length=max_length,\n",
        "        min_length=min_length,\n",
        "        length_penalty=length_penalty,\n",
        "        num_beams=num_beams,\n",
        "        early_stopping=True,\n",
        "    )\n",
        "    return tokenizer.decode(summary_ids[0], skip_special_tokens=True)\n",
        "\n",
        "# Calcul des résumés et des scores ROUGE-2\n",
        "scorer = rouge_scorer.RougeScorer([\"rouge2\"], use_stemmer=True)\n",
        "\n",
        "for identifiant in selected_ids:\n",
        "    article = articles[identifiant]\n",
        "    resume_reference = resumes_reference[identifiant]\n",
        "\n",
        "    # Générer le résumé\n",
        "    resume_genere = resumer_texte(article)\n",
        "    resumes_generes.append((identifiant, resume_genere))\n",
        "\n",
        "    # Calculer le score ROUGE-2\n",
        "    scores = scorer.score(resume_reference, resume_genere)\n",
        "    rouge_scores.append(scores[\"rouge2\"].fmeasure)\n",
        "\n",
        "# Afficher les résultats\n",
        "for i, (identifiant, resume_genere) in enumerate(resumes_generes):\n",
        "    print(f\"Article ID: {identifiant}\")\n",
        "    print(f\"Résumé généré: {resume_genere}\")\n",
        "    print(f\"ROUGE-2 Score: {rouge_scores[i]:.4f}\")\n",
        "    print(\"-\" * 50)\n",
        "\n",
        "# Afficher le score ROUGE-2 moyen\n",
        "avg_rouge2 = sum(rouge_scores) / len(rouge_scores)\n",
        "print(\"Score ROUGE-2 moyen:\")\n",
        "print(f\"ROUGE-2: {avg_rouge2:.4f}\")\n"
      ]
    },
    {
      "cell_type": "markdown",
      "metadata": {
        "id": "UWQbz14JIx1c"
      },
      "source": [
        "On obtient, sur ce petit échantillon d'articles, une moyenne de score rouge de 0,04 : c'est exécrable.\n",
        "En plus de son attention non sparse, surtout, ici, le souci est que BART a une limite de 1024 tokens. Les articles plus longs sont donc tronqués (et nos articles scientifiques le sont tous, plus longs), ce qui peut entraîner une perte d'informations essentielles. Les résumés générés seront donc effectués uniquement à partir d'une petite partie du contenu de l'article. Or, toutes les informations importantes pour faire un bon résumé ne se trouvent pas forcément au début des articles.\n",
        "\n",
        "Devant ces premiers résultats, nous n'allons pas plus loin dans l'expérimentation avec ce modèle seul, et décidons d'explorer les modèles longformer."
      ]
    },
    {
      "cell_type": "markdown",
      "metadata": {
        "id": "174HhhboIx1c"
      },
      "source": [
        "# Confection d'un modèle composé à partir de longformer et bart"
      ]
    },
    {
      "cell_type": "markdown",
      "metadata": {
        "id": "hcZ4fVucIx1c"
      },
      "source": [
        "## Chargement du modèle  allenai/longformer-base-4096\n",
        "\n"
      ]
    },
    {
      "cell_type": "markdown",
      "metadata": {
        "id": "05ggast4Ix1c"
      },
      "source": [
        "Le modèle bigbird-pegasus-large-arivx demande trop de mémoire pour notre plateforme de compétition kaggle, et le modèle bart donne des scores rouges trop faibles (même si en le fine-tunant, ils auraient sans doute été légèrement améliorés).\n",
        "\n",
        "Nous devons donc nous orienter vers un modèle de compromis, néanmoins adapté au traitement d'articles scientifiques longs.\n",
        "Il nous faut donc chercher dans la famille des modèles à attention \"sparse\", les seuls vraiment adaptés pour ces textes longs.\n",
        "\n",
        "allenai/longformer-large-4096 partage avec bigbird ce mécanisme d'attention sparse : tout comme lui, il utilise une fenêtre d'attention \"glissante\". Tout comme lui, il y ajoute une attention à plus longue portée sur les tokens importants, ce qui lui permet d'interagir avec tous les autres tokens de la séquence pour capturer des relations à long terme. Mais contrairement à lui, il n'a pas de mécanisme d'attention aléatoire qui se surajoute à ces deux couches d'attention - mécanisme qui permettait à bigbird-pegasus de mieux capter des relations globales...mais consommait de la mémoire vive, lors de son entraînement (fine tuning) notamment.\n",
        "\n",
        "En revanche, allenai/longformer-large-4096 n'est pas un générateur de texte : il nous faut donc l'associer à un modèle de type GPT ou autre qui permet quant à lui la génération. Ce, dans le but de bonifier les performances du modèle générateur par les bonnes performances de longformer sur les textes longs.\n",
        "On l'associe donc, in fine, avec le modèle générateur bart-large-cnn, association qu'on crée \"à la main\" via la confection d'une classe spécifique.\n",
        "\n",
        "Comme le modèle ainsi créé reste trop volumineux, on y remplace finalement allenai/longformer-large-4096 par une version plus légère : allenai/longformer-base-4096.\n",
        "\n"
      ]
    },
    {
      "cell_type": "code",
      "execution_count": null,
      "metadata": {
        "colab": {
          "referenced_widgets": [
            "5e81d14b7fd24c739eed0a82210d9ee3",
            "c628f10c2bcf4b3187beed1457e00efa",
            "f814abe64fc0418787ea9d2e8bb8ef15",
            "4a285802a88543e59198fd307b87f277",
            "79aa15ef8deb4a448be962a586b103cd"
          ]
        },
        "execution": {
          "iopub.execute_input": "2025-01-11T16:00:54.819569Z",
          "iopub.status.busy": "2025-01-11T16:00:54.819217Z",
          "iopub.status.idle": "2025-01-11T16:01:13.191383Z",
          "shell.execute_reply": "2025-01-11T16:01:13.190533Z",
          "shell.execute_reply.started": "2025-01-11T16:00:54.819527Z"
        },
        "id": "k5qV8ILrIx1d",
        "outputId": "12b7569c-f06b-40e7-8250-89ff4648fed5"
      },
      "outputs": [
        {
          "data": {
            "application/vnd.jupyter.widget-view+json": {
              "model_id": "5e81d14b7fd24c739eed0a82210d9ee3",
              "version_major": 2,
              "version_minor": 0
            },
            "text/plain": [
              "config.json:   0%|          | 0.00/694 [00:00<?, ?B/s]"
            ]
          },
          "metadata": {},
          "output_type": "display_data"
        },
        {
          "data": {
            "application/vnd.jupyter.widget-view+json": {
              "model_id": "c628f10c2bcf4b3187beed1457e00efa",
              "version_major": 2,
              "version_minor": 0
            },
            "text/plain": [
              "vocab.json:   0%|          | 0.00/899k [00:00<?, ?B/s]"
            ]
          },
          "metadata": {},
          "output_type": "display_data"
        },
        {
          "data": {
            "application/vnd.jupyter.widget-view+json": {
              "model_id": "f814abe64fc0418787ea9d2e8bb8ef15",
              "version_major": 2,
              "version_minor": 0
            },
            "text/plain": [
              "merges.txt:   0%|          | 0.00/456k [00:00<?, ?B/s]"
            ]
          },
          "metadata": {},
          "output_type": "display_data"
        },
        {
          "data": {
            "application/vnd.jupyter.widget-view+json": {
              "model_id": "4a285802a88543e59198fd307b87f277",
              "version_major": 2,
              "version_minor": 0
            },
            "text/plain": [
              "tokenizer.json:   0%|          | 0.00/1.36M [00:00<?, ?B/s]"
            ]
          },
          "metadata": {},
          "output_type": "display_data"
        },
        {
          "name": "stderr",
          "output_type": "stream",
          "text": [
            "/usr/local/lib/python3.10/dist-packages/transformers/tokenization_utils_base.py:1601: FutureWarning: `clean_up_tokenization_spaces` was not set. It will be set to `True` by default. This behavior will be depracted in transformers v4.45, and will be then set to `False` by default. For more details check this issue: https://github.com/huggingface/transformers/issues/31884\n",
            "  warnings.warn(\n"
          ]
        },
        {
          "data": {
            "application/vnd.jupyter.widget-view+json": {
              "model_id": "79aa15ef8deb4a448be962a586b103cd",
              "version_major": 2,
              "version_minor": 0
            },
            "text/plain": [
              "pytorch_model.bin:   0%|          | 0.00/597M [00:00<?, ?B/s]"
            ]
          },
          "metadata": {},
          "output_type": "display_data"
        },
        {
          "name": "stderr",
          "output_type": "stream",
          "text": [
            "Some weights of LongformerForSequenceClassification were not initialized from the model checkpoint at allenai/longformer-base-4096 and are newly initialized: ['classifier.dense.bias', 'classifier.dense.weight', 'classifier.out_proj.bias', 'classifier.out_proj.weight']\n",
            "You should probably TRAIN this model on a down-stream task to be able to use it for predictions and inference.\n"
          ]
        }
      ],
      "source": [
        "from transformers import LongformerForSequenceClassification, AutoTokenizer\n",
        "import torch\n",
        "from transformers import TrainingArguments, Trainer # Import TrainingArguments and Trainer\n",
        "\n",
        "# Instancier le tokenizer pour le modèle Longformer\n",
        "tokenizer = AutoTokenizer.from_pretrained(\"allenai/longformer-base-4096\")\n",
        "\n",
        "# Chargement du modèle Longformer\n",
        "model = LongformerForSequenceClassification.from_pretrained(\"allenai/longformer-base-4096\",\n",
        "                                                           return_dict=True,\n",
        "                                                           torch_dtype=torch.float16,\n",
        "                                                           device_map=\"auto\")"
      ]
    },
    {
      "cell_type": "markdown",
      "metadata": {
        "id": "u5Xdc-s2Ix1d"
      },
      "source": [
        "## Création du nouveau modèle \"cousu main\" à partir de BART et LONGFORMER"
      ]
    },
    {
      "cell_type": "markdown",
      "metadata": {
        "id": "LD4IHBJkIx1d"
      },
      "source": [
        "On est obligés de faire un peu de \"cuisine\" (en code informatique) pour associer les 2 modèles en un seul : par exemple, les sorties de longformer n'ont pas la même taille que les entrées de bart. Il nous faut donc insérer dans la classe une \"couche de projection\".\n",
        "Il faut également dupliquer leurs poids, pour éviter les (mauvais...) mélanges entre eux par la suite.\n",
        "\n",
        "On ne peut pas utiliser la tokenisation de l'un des deux modèles non plus : il nous faut en créer une, tout aussi hybride que notre modèle \"fait main\" à partir de la \"couture\" de ces deux modèles issus de hugging face."
      ]
    },
    {
      "cell_type": "code",
      "execution_count": null,
      "metadata": {
        "colab": {
          "referenced_widgets": [
            "8b72163f652d4deab693643e28c34f78",
            "97a54069e0734e57912c192d73fe8d2a",
            "7e1e5557b0344bc299fc45064624153e",
            "91e0b204afc44a33af18d0d3f09a1c20",
            "d1d4cb64c58141ab872859a1956d5cc3",
            "abaaa6be2ab0475eb6acc669967f5a70"
          ]
        },
        "execution": {
          "iopub.execute_input": "2025-01-11T16:16:03.575769Z",
          "iopub.status.busy": "2025-01-11T16:16:03.575421Z",
          "iopub.status.idle": "2025-01-11T16:16:14.689112Z",
          "shell.execute_reply": "2025-01-11T16:16:14.688456Z",
          "shell.execute_reply.started": "2025-01-11T16:16:03.575739Z"
        },
        "id": "8lGn_RJjIx1d",
        "outputId": "64bafdcf-5418-45d1-c0e2-cbcd64f21310"
      },
      "outputs": [
        {
          "data": {
            "application/vnd.jupyter.widget-view+json": {
              "model_id": "8b72163f652d4deab693643e28c34f78",
              "version_major": 2,
              "version_minor": 0
            },
            "text/plain": [
              "vocab.json:   0%|          | 0.00/899k [00:00<?, ?B/s]"
            ]
          },
          "metadata": {},
          "output_type": "display_data"
        },
        {
          "data": {
            "application/vnd.jupyter.widget-view+json": {
              "model_id": "97a54069e0734e57912c192d73fe8d2a",
              "version_major": 2,
              "version_minor": 0
            },
            "text/plain": [
              "merges.txt:   0%|          | 0.00/456k [00:00<?, ?B/s]"
            ]
          },
          "metadata": {},
          "output_type": "display_data"
        },
        {
          "data": {
            "application/vnd.jupyter.widget-view+json": {
              "model_id": "7e1e5557b0344bc299fc45064624153e",
              "version_major": 2,
              "version_minor": 0
            },
            "text/plain": [
              "tokenizer.json:   0%|          | 0.00/1.36M [00:00<?, ?B/s]"
            ]
          },
          "metadata": {},
          "output_type": "display_data"
        },
        {
          "data": {
            "application/vnd.jupyter.widget-view+json": {
              "model_id": "91e0b204afc44a33af18d0d3f09a1c20",
              "version_major": 2,
              "version_minor": 0
            },
            "text/plain": [
              "config.json:   0%|          | 0.00/1.58k [00:00<?, ?B/s]"
            ]
          },
          "metadata": {},
          "output_type": "display_data"
        },
        {
          "data": {
            "application/vnd.jupyter.widget-view+json": {
              "model_id": "d1d4cb64c58141ab872859a1956d5cc3",
              "version_major": 2,
              "version_minor": 0
            },
            "text/plain": [
              "model.safetensors:   0%|          | 0.00/1.63G [00:00<?, ?B/s]"
            ]
          },
          "metadata": {},
          "output_type": "display_data"
        },
        {
          "data": {
            "application/vnd.jupyter.widget-view+json": {
              "model_id": "abaaa6be2ab0475eb6acc669967f5a70",
              "version_major": 2,
              "version_minor": 0
            },
            "text/plain": [
              "generation_config.json:   0%|          | 0.00/363 [00:00<?, ?B/s]"
            ]
          },
          "metadata": {},
          "output_type": "display_data"
        }
      ],
      "source": [
        "from transformers import LongformerTokenizer, BartTokenizer, BartForConditionalGeneration, LongformerModel, Trainer, TrainingArguments\n",
        "from datasets import load_dataset\n",
        "import torch\n",
        "import torch.nn as nn\n",
        "import torch.nn.functional as F\n",
        "\n",
        "torch.cuda.empty_cache()\n",
        "\n",
        "# Charger le tokenizer et le modèle Longformer pour l'encodage\n",
        "longformer_tokenizer = LongformerTokenizer.from_pretrained('allenai/longformer-base-4096')\n",
        "longformer_model = LongformerModel.from_pretrained('allenai/longformer-base-4096')\n",
        "\n",
        "# Charger le tokenizer et le modèle BART-CNN pour la génération\n",
        "bart_tokenizer = BartTokenizer.from_pretrained('facebook/bart-large-cnn')\n",
        "bart_model = BartForConditionalGeneration.from_pretrained('facebook/bart-large-cnn')\n",
        "\n",
        "# Tokenisation des entrées et des sorties\n",
        "def tokenize_function(examples):\n",
        "    # Tokeniser les articles avec Longformer\n",
        "    model_inputs = longformer_tokenizer(\n",
        "        examples[\"article\"],\n",
        "        #max_length=4096, #trop long pour le GPU de kaggle...nous en revenons donc aux fameux 1024 token max, d'où nous partions avec BART seul.\n",
        "        max_length=1024,\n",
        "        truncation=True,\n",
        "        padding=\"max_length\",  # Assurer le padding\n",
        "        return_tensors=\"pt\"  # Retourner des tensors PyTorch\n",
        "    )\n",
        "\n",
        "    # Tokeniser les résumés (labels) avec BART tokenizer\n",
        "    labels = bart_tokenizer(\n",
        "        #examples[\"highlights\"],\n",
        "        examples[\"abstract\"],\n",
        "        #max_length=200,\n",
        "        max_length=1024,\n",
        "        truncation=True,\n",
        "        padding=\"max_length\",  # Assurer le padding\n",
        "        return_tensors=\"pt\"  # Retourner des tensors PyTorch\n",
        "    )\n",
        "\n",
        "    # Ajouter les labels au dictionnaire de sortie\n",
        "    model_inputs[\"labels\"] = labels[\"input_ids\"]\n",
        "    return model_inputs\n",
        "\n",
        "# Définir un modèle combiné qui utilise Longformer comme encodeur et BART pour la génération\n",
        "class LongformerBart(nn.Module):\n",
        "    def __init__(self, longformer_model, bart_model):\n",
        "        super(LongformerBart, self).__init__()\n",
        "        self.longformer = longformer_model\n",
        "        self.bart = bart_model\n",
        "\n",
        " # Ajouter une couche linéaire pour ajuster la dimension des sorties de Longformer\n",
        "        self.longformer_projection = nn.Linear(768, 1024)  # Projeter de 768 à 1024\n",
        "\n",
        " # Dupliquer les poids partagés de BART et Longformer\n",
        "        with torch.no_grad():\n",
        "            # Dupliquer les poids partagés de BART\n",
        "            bart_model.model.shared = torch.nn.Embedding.from_pretrained(bart_model.model.shared.weight.clone())\n",
        "            bart_model.model.encoder.embed_tokens = torch.nn.Embedding.from_pretrained(bart_model.model.encoder.embed_tokens.weight.clone())\n",
        "            bart_model.model.decoder.embed_tokens = torch.nn.Embedding.from_pretrained(bart_model.model.decoder.embed_tokens.weight.clone())\n",
        "\n",
        "            # Dupliquer les poids partagés de Longformer\n",
        "            longformer_model.embeddings.word_embeddings = torch.nn.Embedding.from_pretrained(longformer_model.embeddings.word_embeddings.weight.clone())\n",
        "\n",
        "    def forward(self, input_ids, attention_mask, decoder_input_ids=None, labels=None):\n",
        "        # Encoder la séquence avec Longformer\n",
        "        encoder_outputs = self.longformer(input_ids=input_ids, attention_mask=attention_mask)\n",
        "        encoder_hidden_states = encoder_outputs.last_hidden_state\n",
        "\n",
        "  # Appliquer la projection pour ajuster la dimension\n",
        "        encoder_hidden_states = self.longformer_projection(encoder_hidden_states)\n",
        "\n",
        "        # Passer les représentations encodées à BART pour la génération\n",
        "        decoder_outputs = self.bart(\n",
        "            input_ids=decoder_input_ids,\n",
        "            labels=labels,\n",
        "            encoder_outputs=encoder_hidden_states\n",
        "        )\n",
        "\n",
        "        return decoder_outputs"
      ]
    },
    {
      "cell_type": "markdown",
      "metadata": {
        "id": "CYTZ9Ka4Ix1e"
      },
      "source": [
        "## Entrainement de ce modèle sur les données OBS, puis sauvegarde de ce modèle ainsi fine-tuné\n"
      ]
    },
    {
      "cell_type": "markdown",
      "metadata": {
        "id": "8gEAmd1sIx1e"
      },
      "source": [
        "On effectue la spécialisation (\"fine tuning\") de ce modèle, pour la tâche de générer des résumés pour des articles scientifiques de type \"OBS\"."
      ]
    },
    {
      "cell_type": "code",
      "execution_count": null,
      "metadata": {
        "colab": {
          "referenced_widgets": [
            "152e62026b82487eb29c7346135254a3"
          ]
        },
        "execution": {
          "iopub.execute_input": "2024-12-30T22:32:27.461401Z",
          "iopub.status.busy": "2024-12-30T22:32:27.461065Z",
          "iopub.status.idle": "2024-12-30T22:42:31.324020Z",
          "shell.execute_reply": "2024-12-30T22:42:31.323249Z",
          "shell.execute_reply.started": "2024-12-30T22:32:27.461364Z"
        },
        "id": "IKG3bqM9Ix1f",
        "outputId": "2d29c6b0-bcd3-4d99-80d9-b0de0fc38040"
      },
      "outputs": [
        {
          "data": {
            "application/vnd.jupyter.widget-view+json": {
              "model_id": "152e62026b82487eb29c7346135254a3",
              "version_major": 2,
              "version_minor": 0
            },
            "text/plain": [
              "Map:   0%|          | 0/402 [00:00<?, ? examples/s]"
            ]
          },
          "metadata": {},
          "output_type": "display_data"
        },
        {
          "name": "stderr",
          "output_type": "stream",
          "text": [
            "/usr/local/lib/python3.10/dist-packages/transformers/training_args.py:1525: FutureWarning: `evaluation_strategy` is deprecated and will be removed in version 4.46 of 🤗 Transformers. Use `eval_strategy` instead\n",
            "  warnings.warn(\n"
          ]
        },
        {
          "data": {
            "text/html": [
              "\n",
              "    <div>\n",
              "      \n",
              "      <progress value='483' max='483' style='width:300px; height:20px; vertical-align: middle;'></progress>\n",
              "      [483/483 09:56, Epoch 3/3]\n",
              "    </div>\n",
              "    <table border=\"1\" class=\"dataframe\">\n",
              "  <thead>\n",
              " <tr style=\"text-align: left;\">\n",
              "      <th>Epoch</th>\n",
              "      <th>Training Loss</th>\n",
              "      <th>Validation Loss</th>\n",
              "    </tr>\n",
              "  </thead>\n",
              "  <tbody>\n",
              "    <tr>\n",
              "      <td>1</td>\n",
              "      <td>0.061900</td>\n",
              "      <td>1.215846</td>\n",
              "    </tr>\n",
              "    <tr>\n",
              "      <td>2</td>\n",
              "      <td>0.044400</td>\n",
              "      <td>6.686377</td>\n",
              "    </tr>\n",
              "    <tr>\n",
              "      <td>3</td>\n",
              "      <td>0.042600</td>\n",
              "      <td>2.663265</td>\n",
              "    </tr>\n",
              "  </tbody>\n",
              "</table><p>"
            ],
            "text/plain": [
              "<IPython.core.display.HTML object>"
            ]
          },
          "metadata": {},
          "output_type": "display_data"
        },
        {
          "data": {
            "text/plain": [
              "TrainOutput(global_step=483, training_loss=0.5426618188434507, metrics={'train_runtime': 598.6016, 'train_samples_per_second': 1.609, 'train_steps_per_second': 0.807, 'total_flos': 0.0, 'train_loss': 0.5426618188434507, 'epoch': 3.0})"
            ]
          },
          "execution_count": 13,
          "metadata": {},
          "output_type": "execute_result"
        }
      ],
      "source": [
        "# Appliquer la tokenisation\n",
        "tokenized_datasets = dataset.map(tokenize_function, batched=True)\n",
        "\n",
        "# Diviser l'ensemble de données en train et validation\n",
        "dataset_split = tokenized_datasets.train_test_split(test_size=0.2)\n",
        "\n",
        "# Extraire les ensembles d'entraînement et de validation\n",
        "train_dataset = dataset_split['train']\n",
        "val_dataset = dataset_split['test']\n",
        "\n",
        "\n",
        "\n",
        "# Initialiser le modèle combiné\n",
        "model = LongformerBart(longformer_model, bart_model)\n",
        "\n",
        "# Définir les arguments d'entraînement\n",
        "training_args = TrainingArguments(\n",
        "    output_dir=\"./longformer_bart_finetuned\",  # Répertoire de sortie pour enregistrer les résultats\n",
        "    evaluation_strategy=\"epoch\",  # Évaluer après chaque époque\n",
        "    learning_rate=2e-5,  # Taux d'apprentissage\n",
        "    per_device_train_batch_size=2,  # Taille du batch pour l'entraînement\n",
        "    per_device_eval_batch_size=2,   # Taille du batch pour l'évaluation\n",
        "    num_train_epochs=3,  # Nombre d'époques d'entraînement\n",
        "    save_steps=500,  # Sauvegarder moins souvent\n",
        "    weight_decay=0.01,  # L2 regularization\n",
        "    logging_dir=\"./logs\",  # Répertoire pour les logs\n",
        "    logging_steps=10,  # Fréquence des logs\n",
        "    report_to=\"tensorboard\",  # Optionnel : Utiliser TensorBoard pour la visualisation des métriques\n",
        ")\n",
        "\n",
        "\n",
        "# Créer un objet Trainer\n",
        "trainer = Trainer(\n",
        "    model=model,  # Le modèle combiné Longformer+BART\n",
        "    args=training_args,  # Les arguments d'entraînement\n",
        "    train_dataset=train_dataset,  # Jeu d'entraînement\n",
        "    eval_dataset=val_dataset,  # Jeu de validation\n",
        "    tokenizer=longformer_tokenizer,  # Tokenizer pour le pré-traitement des données\n",
        ")\n",
        "\n",
        "# Lancer l'entraînement\n",
        "trainer.train()"
      ]
    },
    {
      "cell_type": "markdown",
      "metadata": {
        "id": "EqtuQAK8Ix1f"
      },
      "source": [
        "Le modèle fine-tuné nécessite quelques ajustements au niveau de son enregistrement, pour pouvoir le sauvegarder correctement :"
      ]
    },
    {
      "cell_type": "code",
      "execution_count": null,
      "metadata": {
        "execution": {
          "iopub.execute_input": "2025-01-11T16:41:06.656181Z",
          "iopub.status.busy": "2025-01-11T16:41:06.655830Z",
          "iopub.status.idle": "2025-01-11T16:41:29.108937Z",
          "shell.execute_reply": "2025-01-11T16:41:29.108204Z",
          "shell.execute_reply.started": "2025-01-11T16:41:06.656152Z"
        },
        "id": "D4YE2pE9Ix1f",
        "outputId": "464e6228-5bb6-409d-ea59-d410be6aac97"
      },
      "outputs": [
        {
          "name": "stdout",
          "output_type": "stream",
          "text": [
            "Le fichier config.json a été sauvegardé \n"
          ]
        },
        {
          "data": {
            "text/plain": [
              "'\\n# Sauvegarde du modèle\\ntorch.save(longformer_bart_model.state_dict(), \"longformer_bart_finetuned.pth\")\\n\\n# Sauvegarde de la configuration\\nlongformer_bart_model.config.to_json_file(\"longformer_bart_config.json\")\\n'"
            ]
          },
          "execution_count": 10,
          "metadata": {},
          "output_type": "execute_result"
        }
      ],
      "source": [
        "# Dupliquer les poids partagés pour éviter la duplication de mémoire\n",
        "# Cela doit être fait après l'entraînement et avant la sauvegarde\n",
        "\n",
        "import safetensors.torch as st\n",
        "\n",
        "# Pour Longformer - dupliquer les embeddings\n",
        "with torch.no_grad():  # Empêche la modification des gradients\n",
        "    new_word_embeddings = model.longformer.embeddings.word_embeddings.weight.clone()\n",
        "    model.longformer.embeddings.word_embeddings = torch.nn.Embedding.from_pretrained(new_word_embeddings)\n",
        "\n",
        "# Pour BART - dupliquer les embeddings de l'encodeur et du décodeur\n",
        "with torch.no_grad():  # Empêche la modification des gradients\n",
        "    new_shared_weight = model.bart.model.shared.weight.clone()\n",
        "    model.bart.model.shared = torch.nn.Embedding.from_pretrained(new_shared_weight)\n",
        "\n",
        "    new_encoder_embed = model.bart.model.encoder.embed_tokens.weight.clone()\n",
        "    model.bart.model.encoder.embed_tokens = torch.nn.Embedding.from_pretrained(new_encoder_embed)\n",
        "\n",
        "    new_decoder_embed = model.bart.model.decoder.embed_tokens.weight.clone()\n",
        "    model.bart.model.decoder.embed_tokens = torch.nn.Embedding.from_pretrained(new_decoder_embed)\n",
        "\n",
        "# Sauvegarder les poids dans un fichier classique\n",
        "torch.save(model.state_dict(), 'longformer_bart_finetuned/model_weights.pth')\n",
        "\n",
        "# Charger manuellement avec safetensors\n",
        "import safetensors.torch as st\n",
        "\n",
        "# Sauvegarder avec safetensors après avoir dupliqué les poids\n",
        "st.save_file(model.state_dict(), 'longformer_bart_finetuned/model_weights.safetensors')\n",
        "\n",
        "import json\n",
        "\n",
        "# Définir la configuration\n",
        "config = {\n",
        "    \"architectures\": [\"LongformerForSequenceClassification\"],\n",
        "    \"hidden_size\": 1024,\n",
        "    \"num_attention_heads\": 16,\n",
        "    \"num_hidden_layers\": 12,\n",
        "    \"vocab_size\": 50264,\n",
        "    \"max_position_embeddings\": 4098,\n",
        "    \"embedding_size\": 1024,\n",
        "    \"layer_norm_eps\": 1e-5,\n",
        "    \"pad_token_id\": 1,\n",
        "    \"activation_function\": \"gelu\",\n",
        "    \"initializer_range\": 0.02,\n",
        "    \"layer_norm_affine\": True,\n",
        "    \"attention_probs_dropout_prob\": 0.1,\n",
        "    \"hidden_dropout_prob\": 0.1,\n",
        "    \"max_position_embeddings\": 4098,\n",
        "    \"type_vocab_size\": 2,\n",
        "    \"attention_dropout\": 0.1,\n",
        "    \"longformer_projection\": {\n",
        "        \"in_features\": 768,\n",
        "        \"out_features\": 1024\n",
        "    }\n",
        "}\n",
        "\n",
        "# Sauvegarder le fichier config.json\n",
        "#config_path = '/kaggle/working/config.json'\n",
        "with open(\"longformer_bart_finetuned/config.json\", 'w') as f:\n",
        "    json.dump(config, f)\n",
        "\n",
        "print(\"Le fichier config.json a été sauvegardé \")\n",
        "\n",
        "# Sauvegarder le modèle fine-tuné\n",
        "trainer.save_model(\"./longformer_bart_finetuned\")\n",
        "\"\"\"\n",
        "# Sauvegarde du modèle\n",
        "torch.save(longformer_bart_model.state_dict(), \"longformer_bart_finetuned.pth\")\n",
        "\n",
        "# Sauvegarde de la configuration\n",
        "longformer_bart_model.config.to_json_file(\"longformer_bart_config.json\")\n",
        "\"\"\""
      ]
    },
    {
      "cell_type": "markdown",
      "metadata": {
        "id": "ruq4u05AIx1f"
      },
      "source": [
        "...et les contraintes de capacité de stockage du dossier \"working\" de kaggle nous obligent encore à quelques manipulations (ici, suppression de checkpoint) pour pouvoir sauvegarder notre modèle fine-tuné dans un fichier zip :"
      ]
    },
    {
      "cell_type": "code",
      "execution_count": null,
      "metadata": {
        "execution": {
          "iopub.execute_input": "2024-12-30T22:42:52.637753Z",
          "iopub.status.busy": "2024-12-30T22:42:52.637526Z",
          "iopub.status.idle": "2024-12-30T22:43:13.534881Z",
          "shell.execute_reply": "2024-12-30T22:43:13.534111Z",
          "shell.execute_reply.started": "2024-12-30T22:42:52.637732Z"
        },
        "id": "DqUEwGeOIx1g",
        "outputId": "8d75ace6-e5eb-4537-b59d-a4a7ce938b30"
      },
      "outputs": [
        {
          "name": "stdout",
          "output_type": "stream",
          "text": [
            "Le dossier '/kaggle/working/longformer_bart_finetuned/checkpoint-483' a été supprimé avec succès.\n"
          ]
        }
      ],
      "source": [
        "import shutil\n",
        "# Chemin du dossier à supprimer\n",
        "directory_to_delete = \"/kaggle/working/longformer_bart_finetuned/checkpoint-483\"\n",
        "# Vérifier si le dossier existe\n",
        "if os.path.exists(directory_to_delete):\n",
        "    # Supprimer le dossier et tout son contenu\n",
        "    shutil.rmtree(directory_to_delete)\n",
        "    print(f\"Le dossier '{directory_to_delete}' a été supprimé avec succès.\")\n",
        "else:\n",
        "    print(f\"Le dossier '{directory_to_delete}' n'existe pas.\")"
      ]
    },
    {
      "cell_type": "markdown",
      "metadata": {
        "id": "mGzLv7wCIx1g"
      },
      "source": [
        "On zipe, enfin, le dossier du modèle ainsi créé et entraîné, pour pouvoir le sauvegarder et le réutiliser ensuite sur notre ensemble de test sans risquer de le perdre à chaque interruption de session :\n"
      ]
    },
    {
      "cell_type": "code",
      "execution_count": null,
      "metadata": {
        "id": "LBtMpeZ6Ix1g",
        "outputId": "531f5e0f-0b90-4bff-c6ec-10b6aab47e9a"
      },
      "outputs": [
        {
          "name": "stdout",
          "output_type": "stream",
          "text": [
            "['.virtual_documents', 'logs', 'longformer_bart_finetuned', 'submission.csv']\n"
          ]
        },
        {
          "data": {
            "text/plain": [
              "'/kaggle/working/longformer_bart_finetuned.zip'"
            ]
          },
          "execution_count": 31,
          "metadata": {},
          "output_type": "execute_result"
        }
      ],
      "source": [
        "\n",
        "print(os.listdir(\"./\"))\n",
        "\n",
        "shutil.make_archive('/kaggle/working/longformer_bart_finetuned', 'zip', './longformer_bart_finetuned')\n"
      ]
    },
    {
      "cell_type": "markdown",
      "metadata": {
        "id": "sVOarYGHIx1h"
      },
      "source": [
        "## Entraînement de ce modèle sur les données RCT, puis sauvegarde de ce modèle fine-tuné"
      ]
    },
    {
      "cell_type": "markdown",
      "metadata": {
        "id": "otZxWySDIx1h"
      },
      "source": [
        "On procède exactement de même pour le fine-tuning, puis la sauvegarde, du modèle spécialisé dans le résumé d'articles scientifiques de type \"RCT\" :"
      ]
    },
    {
      "cell_type": "code",
      "execution_count": null,
      "metadata": {
        "execution": {
          "iopub.execute_input": "2024-12-30T22:43:13.542009Z",
          "iopub.status.busy": "2024-12-30T22:43:13.541763Z",
          "iopub.status.idle": "2024-12-30T22:43:13.557210Z",
          "shell.execute_reply": "2024-12-30T22:43:13.556514Z",
          "shell.execute_reply.started": "2024-12-30T22:43:13.541978Z"
        },
        "id": "tPRZilPnIx1h",
        "outputId": "3b699786-0782-4b57-bf2a-9261f3ebf032"
      },
      "outputs": [
        {
          "data": {
            "text/plain": [
              "'\\n# Appliquer la tokenisation\\ntokenized_datasets = dataset_RCT.map(tokenize_function, batched=True)\\n\\n# Diviser l\\'ensemble de données en train et validation\\ndataset_split = tokenized_datasets.train_test_split(test_size=0.2)\\n\\n# Extraire les ensembles d\\'entraînement et de validation\\ntrain_dataset = dataset_split[\\'train\\']\\nval_dataset = dataset_split[\\'test\\']\\n\\n        \\n\\n# Initialiser le modèle combiné\\nmodel = LongformerBart(longformer_model, bart_model)\\n\\n# Définir les arguments d\\'entraînement\\ntraining_args = TrainingArguments(\\n    output_dir=\"./longformer_bart_finetuned_rct\",  # Répertoire de sortie pour enregistrer les résultats\\n    evaluation_strategy=\"epoch\",  # Évaluer après chaque époque\\n    learning_rate=2e-5,  # Taux d\\'apprentissage\\n    per_device_train_batch_size=2,  # Taille du batch pour l\\'entraînement\\n    per_device_eval_batch_size=2,   # Taille du batch pour l\\'évaluation\\n    num_train_epochs=3,  # Nombre d\\'époques d\\'entraînement\\n    save_steps=500,  # Sauvegarder moins souvent\\n    weight_decay=0.01,  # L2 regularization\\n    logging_dir=\"./logs\",  # Répertoire pour les logs\\n    logging_steps=10,  # Fréquence des logs\\n    report_to=\"tensorboard\",  # Optionnel : Utiliser TensorBoard pour la visualisation des métriques\\n)\\n\\n\\n# Créer un objet Trainer\\ntrainer = Trainer(\\n    model=model,  # Le modèle combiné Longformer+BART\\n    args=training_args,  # Les arguments d\\'entraînement\\n    train_dataset=train_dataset,  # Jeu d\\'entraînement\\n    eval_dataset=val_dataset,  # Jeu de validation\\n    tokenizer=longformer_tokenizer,  # Tokenizer pour le pré-traitement des données\\n)\\n\\n# Lancer l\\'entraînement\\ntrainer.train()\\n'"
            ]
          },
          "execution_count": 17,
          "metadata": {},
          "output_type": "execute_result"
        }
      ],
      "source": [
        "# Appliquer la tokenisation\n",
        "tokenized_datasets = dataset_RCT.map(tokenize_function, batched=True)\n",
        "\n",
        "# Diviser l'ensemble de données en train et validation\n",
        "dataset_split = tokenized_datasets.train_test_split(test_size=0.2)\n",
        "\n",
        "# Extraire les ensembles d'entraînement et de validation\n",
        "train_dataset = dataset_split['train']\n",
        "val_dataset = dataset_split['test']\n",
        "\n",
        "\n",
        "\n",
        "# Initialiser le modèle combiné\n",
        "model = LongformerBart(longformer_model, bart_model)\n",
        "\n",
        "# Définir les arguments d'entraînement\n",
        "training_args = TrainingArguments(\n",
        "    output_dir=\"./longformer_bart_finetuned_rct\",  # Répertoire de sortie pour enregistrer les résultats\n",
        "    evaluation_strategy=\"epoch\",  # Évaluer après chaque époque\n",
        "    learning_rate=2e-5,  # Taux d'apprentissage\n",
        "    per_device_train_batch_size=2,  # Taille du batch pour l'entraînement\n",
        "    per_device_eval_batch_size=2,   # Taille du batch pour l'évaluation\n",
        "    num_train_epochs=3,  # Nombre d'époques d'entraînement\n",
        "    save_steps=500,  # Sauvegarder moins souvent\n",
        "    weight_decay=0.01,  # L2 regularization\n",
        "    logging_dir=\"./logs\",  # Répertoire pour les logs\n",
        "    logging_steps=10,  # Fréquence des logs\n",
        "    report_to=\"tensorboard\",  # Optionnel : Utiliser TensorBoard pour la visualisation des métriques\n",
        ")\n",
        "\n",
        "\n",
        "# Créer un objet Trainer\n",
        "trainer = Trainer(\n",
        "    model=model,  # Le modèle combiné Longformer+BART\n",
        "    args=training_args,  # Les arguments d'entraînement\n",
        "    train_dataset=train_dataset,  # Jeu d'entraînement\n",
        "    eval_dataset=val_dataset,  # Jeu de validation\n",
        "    tokenizer=longformer_tokenizer,  # Tokenizer pour le pré-traitement des données\n",
        ")\n",
        "\n",
        "# Lancer l'entraînement\n",
        "trainer.train()"
      ]
    },
    {
      "cell_type": "code",
      "execution_count": null,
      "metadata": {
        "execution": {
          "iopub.execute_input": "2024-12-30T22:43:13.558464Z",
          "iopub.status.busy": "2024-12-30T22:43:13.558126Z",
          "iopub.status.idle": "2024-12-30T22:43:13.577474Z",
          "shell.execute_reply": "2024-12-30T22:43:13.576640Z",
          "shell.execute_reply.started": "2024-12-30T22:43:13.558432Z"
        },
        "id": "HghEZRqvIx1h",
        "outputId": "20c87c2a-e39e-4777-debb-7dadf76c175b"
      },
      "outputs": [
        {
          "data": {
            "text/plain": [
              "'\\n# Sauvegarde du modèle\\ntorch.save(longformer_bart_model.state_dict(), \"longformer_bart_finetuned.pth\")\\n\\n# Sauvegarde de la configuration\\nlongformer_bart_model.config.to_json_file(\"longformer_bart_config.json\")\\n'"
            ]
          },
          "execution_count": 18,
          "metadata": {},
          "output_type": "execute_result"
        }
      ],
      "source": [
        "# Dupliquer les poids partagés pour éviter la duplication de mémoire\n",
        "# Cela doit être fait après l'entraînement et avant la sauvegarde\n",
        "\n",
        "import safetensors.torch as st\n",
        "\n",
        "# Pour Longformer - dupliquer les embeddings\n",
        "with torch.no_grad():  # Empêche la modification des gradients\n",
        "    new_word_embeddings = model.longformer.embeddings.word_embeddings.weight.clone()\n",
        "    model.longformer.embeddings.word_embeddings = torch.nn.Embedding.from_pretrained(new_word_embeddings)\n",
        "\n",
        "# Pour BART - dupliquer les embeddings de l'encodeur et du décodeur\n",
        "with torch.no_grad():  # Empêche la modification des gradients\n",
        "    new_shared_weight = model.bart.model.shared.weight.clone()\n",
        "    model.bart.model.shared = torch.nn.Embedding.from_pretrained(new_shared_weight)\n",
        "\n",
        "    new_encoder_embed = model.bart.model.encoder.embed_tokens.weight.clone()\n",
        "    model.bart.model.encoder.embed_tokens = torch.nn.Embedding.from_pretrained(new_encoder_embed)\n",
        "\n",
        "    new_decoder_embed = model.bart.model.decoder.embed_tokens.weight.clone()\n",
        "    model.bart.model.decoder.embed_tokens = torch.nn.Embedding.from_pretrained(new_decoder_embed)\n",
        "\n",
        "# Sauvegarder les poids dans un fichier classique\n",
        "torch.save(model.state_dict(), 'longformer_bart_finetuned_rct/model_weights.pth')\n",
        "\n",
        "# Sauvegarder avec safetensors après avoir dupliqué les poids\n",
        "st.save_file(model.state_dict(), 'longformer_bart_finetuned_rct/model_weights.safetensors')\n",
        "\n",
        "\n",
        "from transformers import PretrainedConfig\n",
        "\n",
        "import json\n",
        "\n",
        "# Définir la configuration\n",
        "config = {\n",
        "    \"architectures\": [\"LongformerForSequenceClassification\"],\n",
        "    \"hidden_size\": 1024,\n",
        "    \"num_attention_heads\": 16,\n",
        "    \"num_hidden_layers\": 12,\n",
        "    \"vocab_size\": 50264,\n",
        "    \"max_position_embeddings\": 4098,\n",
        "    \"embedding_size\": 1024,\n",
        "    \"layer_norm_eps\": 1e-5,\n",
        "    \"pad_token_id\": 1,\n",
        "    \"activation_function\": \"gelu\",\n",
        "    \"initializer_range\": 0.02,\n",
        "    \"layer_norm_affine\": True,\n",
        "    \"attention_probs_dropout_prob\": 0.1,\n",
        "    \"hidden_dropout_prob\": 0.1,\n",
        "    \"max_position_embeddings\": 4098,\n",
        "    \"type_vocab_size\": 2,\n",
        "    \"attention_dropout\": 0.1,\n",
        "    \"longformer_projection\": {\n",
        "        \"in_features\": 768,\n",
        "        \"out_features\": 1024\n",
        "    }\n",
        "}\n",
        "\n",
        "\n",
        "\n",
        "# Sauvegarder le fichier config.json\n",
        "with open(\"longformer_bart_finetuned_rct/config.json\", 'w') as f:\n",
        "    json.dump(config, f)\n",
        "\n",
        "print(\"Le fichier config.json a été sauvegardé \")\n",
        "\n",
        "\n",
        "# Sauvegarder le modèle fine-tuné\n",
        "trainer.save_model(\"./longformer_bart_finetuned_rct\")\n",
        "\"\"\"\n",
        "\"\"\"\n",
        "# Sauvegarde du modèle\n",
        "torch.save(longformer_bart_model.state_dict(), \"longformer_bart_finetuned.pth\")\n",
        "\n",
        "# Sauvegarde de la configuration\n",
        "longformer_bart_model.config.to_json_file(\"longformer_bart_config.json\")"
      ]
    },
    {
      "cell_type": "code",
      "execution_count": null,
      "metadata": {
        "execution": {
          "iopub.execute_input": "2024-12-30T22:43:13.578481Z",
          "iopub.status.busy": "2024-12-30T22:43:13.578229Z",
          "iopub.status.idle": "2024-12-30T22:43:13.597519Z",
          "shell.execute_reply": "2024-12-30T22:43:13.596689Z",
          "shell.execute_reply.started": "2024-12-30T22:43:13.578462Z"
        },
        "id": "YKODK5PQIx1i",
        "outputId": "4960c7f4-8166-4fe1-dfa3-55988e395b93"
      },
      "outputs": [
        {
          "name": "stdout",
          "output_type": "stream",
          "text": [
            "Le dossier '/kaggle/working/longformer_bart_finetuned_rct/checkpoint-393' n'existe pas.\n"
          ]
        }
      ],
      "source": [
        "import shutil\n",
        "# Chemin du dossier à supprimer\n",
        "directory_to_delete = \"/kaggle/working/longformer_bart_finetuned_rct/checkpoint-393\"\n",
        "# Vérifier si le dossier existe\n",
        "if os.path.exists(directory_to_delete):\n",
        "    # Supprimer le dossier et tout son contenu\n",
        "    shutil.rmtree(directory_to_delete)\n",
        "    print(f\"Le dossier '{directory_to_delete}' a été supprimé avec succès.\")\n",
        "else:\n",
        "    print(f\"Le dossier '{directory_to_delete}' n'existe pas.\")"
      ]
    },
    {
      "cell_type": "code",
      "execution_count": null,
      "metadata": {
        "execution": {
          "iopub.execute_input": "2024-12-30T22:43:13.598586Z",
          "iopub.status.busy": "2024-12-30T22:43:13.598256Z",
          "iopub.status.idle": "2024-12-30T22:43:13.613521Z",
          "shell.execute_reply": "2024-12-30T22:43:13.612797Z",
          "shell.execute_reply.started": "2024-12-30T22:43:13.598551Z"
        },
        "id": "wTbPoPgQIx1i",
        "outputId": "a596f2e2-1420-4d74-f02f-13b9a7326181"
      },
      "outputs": [
        {
          "data": {
            "text/plain": [
              "'\\nimport shutil\\n\\nprint(os.listdir(\"./\"))\\n\\nshutil.make_archive(\\'/kaggle/working/longformer_bart_finetuned_rct\\', \\'zip\\', \\'./longformer_bart_finetuned_rct\\')\\n'"
            ]
          },
          "execution_count": 20,
          "metadata": {},
          "output_type": "execute_result"
        }
      ],
      "source": [
        "import shutil\n",
        "\n",
        "print(os.listdir(\"./\"))\n",
        "\n",
        "shutil.make_archive('/kaggle/working/longformer_bart_finetuned_rct', 'zip', './longformer_bart_finetuned_rct')\n"
      ]
    },
    {
      "cell_type": "markdown",
      "metadata": {
        "id": "3M0Ei2a6Ix1j"
      },
      "source": [
        "# Génération des résumés des articles de test"
      ]
    },
    {
      "cell_type": "markdown",
      "metadata": {
        "id": "uLkzYdStIx1j"
      },
      "source": [
        "## Chargement de notre modèle fine-tuné sur les données \"OBS\" et constitué à partir des deux modèles bart et longformer, pour pouvoir l'utiliser pour l'ensemble de test et soumettre nos résumés pour la compétition"
      ]
    },
    {
      "cell_type": "code",
      "execution_count": null,
      "metadata": {
        "execution": {
          "iopub.execute_input": "2025-01-11T16:42:24.269197Z",
          "iopub.status.busy": "2025-01-11T16:42:24.268870Z",
          "iopub.status.idle": "2025-01-11T16:42:30.106315Z",
          "shell.execute_reply": "2025-01-11T16:42:30.105648Z",
          "shell.execute_reply.started": "2025-01-11T16:42:24.269167Z"
        },
        "id": "gJQ7ntD5Ix1j",
        "outputId": "5d4f7431-3beb-467a-8711-de53448cd3aa"
      },
      "outputs": [
        {
          "name": "stderr",
          "output_type": "stream",
          "text": [
            "<ipython-input-11-6b07a477c962>:29: FutureWarning: You are using `torch.load` with `weights_only=False` (the current default value), which uses the default pickle module implicitly. It is possible to construct malicious pickle data which will execute arbitrary code during unpickling (See https://github.com/pytorch/pytorch/blob/main/SECURITY.md#untrusted-models for more details). In a future release, the default value for `weights_only` will be flipped to `True`. This limits the functions that could be executed during unpickling. Arbitrary objects will no longer be allowed to be loaded via this mode unless they are explicitly allowlisted by the user via `torch.serialization.add_safe_globals`. We recommend you start setting `weights_only=True` for any use case where you don't have full control of the loaded file. Please open an issue on GitHub for any issues related to this experimental feature.\n",
            "  model.load_state_dict(torch.load('/kaggle/working/longformer_bart_finetuned/model_weights.pth'))  # Remplacez par le bon chemin et la ligne du dessus pour utiliser le modèle déjà réentrainé\n"
          ]
        }
      ],
      "source": [
        "#Charger le modèle fine tuné afin de l'utiliser\n",
        "import torch\n",
        "from transformers import LongformerModel, BartForConditionalGeneration, LongformerConfig\n",
        "import torch.nn as nn\n",
        "\n",
        "\n",
        "# Définir la classe LongformerBart (on la redéfinit ici pour éviter d'avoir à naviguer entre cellules très distantes en pratique - et on n'en reprend que les parties nécessaires\n",
        "#à l'usage qu'on va en avoir là)\n",
        "class LongformerBart(nn.Module):\n",
        "    def __init__(self, longformer_model, bart_model):\n",
        "        super(LongformerBart, self).__init__()\n",
        "        self.longformer = longformer_model\n",
        "        self.bart = bart_model\n",
        "        self.longformer_projection = nn.Linear(768, 1024)  # Projeter de 768 à 1024\n",
        "\n",
        "    def forward(self, input_ids, attention_mask, decoder_input_ids=None, labels=None):\n",
        "        encoder_outputs = self.longformer(input_ids=input_ids, attention_mask=attention_mask)\n",
        "        encoder_hidden_states = encoder_outputs.last_hidden_state\n",
        "        encoder_hidden_states = self.longformer_projection(encoder_hidden_states)  # Appliquer la projection\n",
        "        decoder_outputs = self.bart(input_ids=decoder_input_ids, labels=labels, encoder_outputs=encoder_hidden_states)\n",
        "        return decoder_outputs\n",
        "\n",
        "# Charger Longformer et BART\n",
        "longformer_model = LongformerModel.from_pretrained('allenai/longformer-base-4096')\n",
        "bart = BartForConditionalGeneration.from_pretrained(\"facebook/bart-large-cnn\")\n",
        "\n",
        "# Charger les poids de notre modèle fine-tuné\n",
        "model = LongformerBart(longformer_model, bart)\n",
        "model.load_state_dict(torch.load('/kaggle/input/longformer_bart_fine_tuned_obs/pytorch/default/1/model_weights.pth'))\n",
        "#model.load_state_dict(torch.load('/kaggle/working/longformer_bart_finetuned/model_weights.pth'))  # Remplacez par le bon chemin et la ligne du dessus pour utiliser le modèle déjà réentrainé\n",
        "\n",
        "# Charger la configuration personnalisée de notre modèle \"sur mesure\"\n",
        "config = LongformerConfig.from_json_file('/kaggle/input/longformer_bart_fine_tuned_obs/pytorch/default/1/config.json')\n",
        "#config = LongformerConfig.from_json_file('/kaggle/working/longformer_bart_finetuned/config.json') #idem : # Remplacez par le bon chemin et la ligne du dessus pour utiliser le modèle déjà réentrainé\n",
        "\n"
      ]
    },
    {
      "cell_type": "markdown",
      "metadata": {
        "id": "T9ABGU81Ix1j"
      },
      "source": [
        "## Mise en forme des données \"OBS\" de test pour le test du modèle."
      ]
    },
    {
      "cell_type": "code",
      "execution_count": null,
      "metadata": {
        "execution": {
          "iopub.execute_input": "2025-01-11T16:45:32.081038Z",
          "iopub.status.busy": "2025-01-11T16:45:32.080682Z",
          "iopub.status.idle": "2025-01-11T16:45:32.284027Z",
          "shell.execute_reply": "2025-01-11T16:45:32.283179Z",
          "shell.execute_reply.started": "2025-01-11T16:45:32.081009Z"
        },
        "id": "TMxwb7IYIx1j",
        "outputId": "829db7dd-2ce7-4637-defb-60c263349cb4"
      },
      "outputs": [
        {
          "name": "stdout",
          "output_type": "stream",
          "text": [
            "  identifiant                                            article\n",
            "0    28278130  Cardiometabolic Risk Factors Among 1.3 Million...\n",
            "1    34555924  Prostate Cancer Screening and Incidence among ...\n",
            "2    35157313  The associated burden of mental health conditi...\n",
            "3    36906849  Implementing digital systems to facilitate gen...\n",
            "4    37226713  Patient-reported treatment response in chronic...\n"
          ]
        }
      ],
      "source": [
        "import os\n",
        "import pandas as pd\n",
        "\n",
        "# Définir le chemin du dossier contenant les articles\n",
        "dossier_articles_test = \"/kaggle/input/m-2-maliash-resume-darticles-scientifiques/test/OBS_test/articles_OBS_test\"\n",
        "\n",
        "# Liste des fichiers dans le dossier\n",
        "fichiers_articles = [f for f in os.listdir(dossier_articles_test) if f.startswith(\"article-\")]\n",
        "\n",
        "# Dictionnaire pour stocker les articles par identifiant (avec contenu des fichiers)\n",
        "articles_test = {}\n",
        "\n",
        "# Remplir le dictionnaire avec les fichiers en fonction des identifiants\n",
        "for fichier in fichiers_articles:\n",
        "    # Extraire l'identifiant du fichier article\n",
        "    identifiant = fichier.split(\"-\")[1].split(\".\")[0]\n",
        "\n",
        "    # Lire le contenu du fichier\n",
        "    with open(os.path.join(dossier_articles_test, fichier), 'r') as f:\n",
        "        contenu_article = f.read()\n",
        "\n",
        "    # Ajouter l'article et son identifiant au dictionnaire\n",
        "    articles_test[identifiant] = {\"article\": contenu_article}\n",
        "\n",
        "# Convertir le dictionnaire en DataFrame\n",
        "df_articles_test = pd.DataFrame.from_dict(articles_test, orient='index')\n",
        "\n",
        "# Réinitialiser l'index pour que 'identifiant' devienne une colonne normale\n",
        "df_articles_test.reset_index(inplace=True)\n",
        "\n",
        "# Renommer les colonnes\n",
        "df_articles_test.columns = ['identifiant', 'article']\n",
        "\n",
        "# Vérifier le DataFrame\n",
        "print(df_articles_test.head())\n"
      ]
    },
    {
      "cell_type": "markdown",
      "metadata": {
        "id": "mb3g29XUIx1k"
      },
      "source": [
        "## Tokenisation des données et génération des résumés pour les articles de test de type \"OBS\""
      ]
    },
    {
      "cell_type": "code",
      "execution_count": null,
      "metadata": {
        "execution": {
          "iopub.execute_input": "2025-01-11T00:10:19.284294Z",
          "iopub.status.busy": "2025-01-11T00:10:19.283949Z",
          "iopub.status.idle": "2025-01-11T00:10:20.046720Z",
          "shell.execute_reply": "2025-01-11T00:10:20.045554Z",
          "shell.execute_reply.started": "2025-01-11T00:10:19.284267Z"
        },
        "id": "sWKBe9MdIx1k",
        "outputId": "ffad22cb-88fb-42ed-e33a-aec69e415179"
      },
      "outputs": [
        {
          "name": "stderr",
          "output_type": "stream",
          "text": [
            "/usr/local/lib/python3.10/dist-packages/transformers/tokenization_utils_base.py:1601: FutureWarning: `clean_up_tokenization_spaces` was not set. It will be set to `True` by default. This behavior will be depracted in transformers v4.45, and will be then set to `False` by default. For more details check this issue: https://github.com/huggingface/transformers/issues/31884\n",
            "  warnings.warn(\n"
          ]
        },
        {
          "name": "stdout",
          "output_type": "stream",
          "text": [
            "input_ids: torch.Size([1, 1024])\n",
            "attention_mask: torch.Size([1, 1024])\n"
          ]
        },
        {
          "ename": "NameError",
          "evalue": "name 'resume' is not defined",
          "output_type": "error",
          "traceback": [
            "\u001b[0;31m---------------------------------------------------------------------------\u001b[0m",
            "\u001b[0;31mNameError\u001b[0m                                 Traceback (most recent call last)",
            "\u001b[0;32m<ipython-input-35-2820c2e14b15>\u001b[0m in \u001b[0;36m<cell line: 68>\u001b[0;34m()\u001b[0m\n\u001b[1;32m     66\u001b[0m \u001b[0;34m\u001b[0m\u001b[0m\n\u001b[1;32m     67\u001b[0m \u001b[0;31m# Traiter l'ensemble de test et générer les résumés\u001b[0m\u001b[0;34m\u001b[0m\u001b[0;34m\u001b[0m\u001b[0m\n\u001b[0;32m---> 68\u001b[0;31m \u001b[0mresultats_obs\u001b[0m \u001b[0;34m=\u001b[0m \u001b[0mtraiter_ensemble_test\u001b[0m\u001b[0;34m(\u001b[0m\u001b[0mdf_articles_test\u001b[0m\u001b[0;34m,\u001b[0m \u001b[0mmodel\u001b[0m\u001b[0;34m,\u001b[0m \u001b[0mbart_tokenizer\u001b[0m\u001b[0;34m)\u001b[0m\u001b[0;34m\u001b[0m\u001b[0;34m\u001b[0m\u001b[0m\n\u001b[0m\u001b[1;32m     69\u001b[0m \u001b[0;34m\u001b[0m\u001b[0m\n\u001b[1;32m     70\u001b[0m \u001b[0;31m# Afficher les résultats\u001b[0m\u001b[0;34m\u001b[0m\u001b[0;34m\u001b[0m\u001b[0m\n",
            "\u001b[0;32m<ipython-input-35-2820c2e14b15>\u001b[0m in \u001b[0;36mtraiter_ensemble_test\u001b[0;34m(dataset_RCT, model, tokenizer)\u001b[0m\n\u001b[1;32m     59\u001b[0m \u001b[0;34m\u001b[0m\u001b[0m\n\u001b[1;32m     60\u001b[0m     \u001b[0;31m# Créer une nouvelle colonne pour les résumés générés\u001b[0m\u001b[0;34m\u001b[0m\u001b[0;34m\u001b[0m\u001b[0m\n\u001b[0;32m---> 61\u001b[0;31m     \u001b[0mdf\u001b[0m\u001b[0;34m[\u001b[0m\u001b[0;34m'résumé'\u001b[0m\u001b[0;34m]\u001b[0m \u001b[0;34m=\u001b[0m \u001b[0mdf\u001b[0m\u001b[0;34m[\u001b[0m\u001b[0;34m'article'\u001b[0m\u001b[0;34m]\u001b[0m\u001b[0;34m.\u001b[0m\u001b[0mapply\u001b[0m\u001b[0;34m(\u001b[0m\u001b[0;32mlambda\u001b[0m \u001b[0mx\u001b[0m\u001b[0;34m:\u001b[0m \u001b[0mgenerer_resume\u001b[0m\u001b[0;34m(\u001b[0m\u001b[0mx\u001b[0m\u001b[0;34m,\u001b[0m \u001b[0mmodel\u001b[0m\u001b[0;34m,\u001b[0m \u001b[0mtokenizer\u001b[0m\u001b[0;34m)\u001b[0m\u001b[0;34m)\u001b[0m\u001b[0;34m\u001b[0m\u001b[0;34m\u001b[0m\u001b[0m\n\u001b[0m\u001b[1;32m     62\u001b[0m \u001b[0;34m\u001b[0m\u001b[0m\n\u001b[1;32m     63\u001b[0m     \u001b[0;31m# Afficher le résultat ou sauvegarder les résultats dans un fichier\u001b[0m\u001b[0;34m\u001b[0m\u001b[0;34m\u001b[0m\u001b[0m\n",
            "\u001b[0;32m/usr/local/lib/python3.10/dist-packages/pandas/core/series.py\u001b[0m in \u001b[0;36mapply\u001b[0;34m(self, func, convert_dtype, args, by_row, **kwargs)\u001b[0m\n\u001b[1;32m   4762\u001b[0m             \u001b[0margs\u001b[0m\u001b[0;34m=\u001b[0m\u001b[0margs\u001b[0m\u001b[0;34m,\u001b[0m\u001b[0;34m\u001b[0m\u001b[0;34m\u001b[0m\u001b[0m\n\u001b[1;32m   4763\u001b[0m             \u001b[0mkwargs\u001b[0m\u001b[0;34m=\u001b[0m\u001b[0mkwargs\u001b[0m\u001b[0;34m,\u001b[0m\u001b[0;34m\u001b[0m\u001b[0;34m\u001b[0m\u001b[0m\n\u001b[0;32m-> 4764\u001b[0;31m         ).apply()\n\u001b[0m\u001b[1;32m   4765\u001b[0m \u001b[0;34m\u001b[0m\u001b[0m\n\u001b[1;32m   4766\u001b[0m     def _reindex_indexer(\n",
            "\u001b[0;32m/usr/local/lib/python3.10/dist-packages/pandas/core/apply.py\u001b[0m in \u001b[0;36mapply\u001b[0;34m(self)\u001b[0m\n\u001b[1;32m   1207\u001b[0m \u001b[0;34m\u001b[0m\u001b[0m\n\u001b[1;32m   1208\u001b[0m         \u001b[0;31m# self.func is Callable\u001b[0m\u001b[0;34m\u001b[0m\u001b[0;34m\u001b[0m\u001b[0m\n\u001b[0;32m-> 1209\u001b[0;31m         \u001b[0;32mreturn\u001b[0m \u001b[0mself\u001b[0m\u001b[0;34m.\u001b[0m\u001b[0mapply_standard\u001b[0m\u001b[0;34m(\u001b[0m\u001b[0;34m)\u001b[0m\u001b[0;34m\u001b[0m\u001b[0;34m\u001b[0m\u001b[0m\n\u001b[0m\u001b[1;32m   1210\u001b[0m \u001b[0;34m\u001b[0m\u001b[0m\n\u001b[1;32m   1211\u001b[0m     \u001b[0;32mdef\u001b[0m \u001b[0magg\u001b[0m\u001b[0;34m(\u001b[0m\u001b[0mself\u001b[0m\u001b[0;34m)\u001b[0m\u001b[0;34m:\u001b[0m\u001b[0;34m\u001b[0m\u001b[0;34m\u001b[0m\u001b[0m\n",
            "\u001b[0;32m/usr/local/lib/python3.10/dist-packages/pandas/core/apply.py\u001b[0m in \u001b[0;36mapply_standard\u001b[0;34m(self)\u001b[0m\n\u001b[1;32m   1287\u001b[0m         \u001b[0;31m#  Categorical (GH51645).\u001b[0m\u001b[0;34m\u001b[0m\u001b[0;34m\u001b[0m\u001b[0m\n\u001b[1;32m   1288\u001b[0m         \u001b[0maction\u001b[0m \u001b[0;34m=\u001b[0m \u001b[0;34m\"ignore\"\u001b[0m \u001b[0;32mif\u001b[0m \u001b[0misinstance\u001b[0m\u001b[0;34m(\u001b[0m\u001b[0mobj\u001b[0m\u001b[0;34m.\u001b[0m\u001b[0mdtype\u001b[0m\u001b[0;34m,\u001b[0m \u001b[0mCategoricalDtype\u001b[0m\u001b[0;34m)\u001b[0m \u001b[0;32melse\u001b[0m \u001b[0;32mNone\u001b[0m\u001b[0;34m\u001b[0m\u001b[0;34m\u001b[0m\u001b[0m\n\u001b[0;32m-> 1289\u001b[0;31m         mapped = obj._map_values(\n\u001b[0m\u001b[1;32m   1290\u001b[0m             \u001b[0mmapper\u001b[0m\u001b[0;34m=\u001b[0m\u001b[0mcurried\u001b[0m\u001b[0;34m,\u001b[0m \u001b[0mna_action\u001b[0m\u001b[0;34m=\u001b[0m\u001b[0maction\u001b[0m\u001b[0;34m,\u001b[0m \u001b[0mconvert\u001b[0m\u001b[0;34m=\u001b[0m\u001b[0mself\u001b[0m\u001b[0;34m.\u001b[0m\u001b[0mconvert_dtype\u001b[0m\u001b[0;34m\u001b[0m\u001b[0;34m\u001b[0m\u001b[0m\n\u001b[1;32m   1291\u001b[0m         )\n",
            "\u001b[0;32m/usr/local/lib/python3.10/dist-packages/pandas/core/base.py\u001b[0m in \u001b[0;36m_map_values\u001b[0;34m(self, mapper, na_action, convert)\u001b[0m\n\u001b[1;32m    919\u001b[0m             \u001b[0;32mreturn\u001b[0m \u001b[0marr\u001b[0m\u001b[0;34m.\u001b[0m\u001b[0mmap\u001b[0m\u001b[0;34m(\u001b[0m\u001b[0mmapper\u001b[0m\u001b[0;34m,\u001b[0m \u001b[0mna_action\u001b[0m\u001b[0;34m=\u001b[0m\u001b[0mna_action\u001b[0m\u001b[0;34m)\u001b[0m\u001b[0;34m\u001b[0m\u001b[0;34m\u001b[0m\u001b[0m\n\u001b[1;32m    920\u001b[0m \u001b[0;34m\u001b[0m\u001b[0m\n\u001b[0;32m--> 921\u001b[0;31m         \u001b[0;32mreturn\u001b[0m \u001b[0malgorithms\u001b[0m\u001b[0;34m.\u001b[0m\u001b[0mmap_array\u001b[0m\u001b[0;34m(\u001b[0m\u001b[0marr\u001b[0m\u001b[0;34m,\u001b[0m \u001b[0mmapper\u001b[0m\u001b[0;34m,\u001b[0m \u001b[0mna_action\u001b[0m\u001b[0;34m=\u001b[0m\u001b[0mna_action\u001b[0m\u001b[0;34m,\u001b[0m \u001b[0mconvert\u001b[0m\u001b[0;34m=\u001b[0m\u001b[0mconvert\u001b[0m\u001b[0;34m)\u001b[0m\u001b[0;34m\u001b[0m\u001b[0;34m\u001b[0m\u001b[0m\n\u001b[0m\u001b[1;32m    922\u001b[0m \u001b[0;34m\u001b[0m\u001b[0m\n\u001b[1;32m    923\u001b[0m     \u001b[0;34m@\u001b[0m\u001b[0mfinal\u001b[0m\u001b[0;34m\u001b[0m\u001b[0;34m\u001b[0m\u001b[0m\n",
            "\u001b[0;32m/usr/local/lib/python3.10/dist-packages/pandas/core/algorithms.py\u001b[0m in \u001b[0;36mmap_array\u001b[0;34m(arr, mapper, na_action, convert)\u001b[0m\n\u001b[1;32m   1812\u001b[0m     \u001b[0mvalues\u001b[0m \u001b[0;34m=\u001b[0m \u001b[0marr\u001b[0m\u001b[0;34m.\u001b[0m\u001b[0mastype\u001b[0m\u001b[0;34m(\u001b[0m\u001b[0mobject\u001b[0m\u001b[0;34m,\u001b[0m \u001b[0mcopy\u001b[0m\u001b[0;34m=\u001b[0m\u001b[0;32mFalse\u001b[0m\u001b[0;34m)\u001b[0m\u001b[0;34m\u001b[0m\u001b[0;34m\u001b[0m\u001b[0m\n\u001b[1;32m   1813\u001b[0m     \u001b[0;32mif\u001b[0m \u001b[0mna_action\u001b[0m \u001b[0;32mis\u001b[0m \u001b[0;32mNone\u001b[0m\u001b[0;34m:\u001b[0m\u001b[0;34m\u001b[0m\u001b[0;34m\u001b[0m\u001b[0m\n\u001b[0;32m-> 1814\u001b[0;31m         \u001b[0;32mreturn\u001b[0m \u001b[0mlib\u001b[0m\u001b[0;34m.\u001b[0m\u001b[0mmap_infer\u001b[0m\u001b[0;34m(\u001b[0m\u001b[0mvalues\u001b[0m\u001b[0;34m,\u001b[0m \u001b[0mmapper\u001b[0m\u001b[0;34m,\u001b[0m \u001b[0mconvert\u001b[0m\u001b[0;34m=\u001b[0m\u001b[0mconvert\u001b[0m\u001b[0;34m)\u001b[0m\u001b[0;34m\u001b[0m\u001b[0;34m\u001b[0m\u001b[0m\n\u001b[0m\u001b[1;32m   1815\u001b[0m     \u001b[0;32melse\u001b[0m\u001b[0;34m:\u001b[0m\u001b[0;34m\u001b[0m\u001b[0;34m\u001b[0m\u001b[0m\n\u001b[1;32m   1816\u001b[0m         return lib.map_infer_mask(\n",
            "\u001b[0;32mlib.pyx\u001b[0m in \u001b[0;36mpandas._libs.lib.map_infer\u001b[0;34m()\u001b[0m\n",
            "\u001b[0;32m<ipython-input-35-2820c2e14b15>\u001b[0m in \u001b[0;36m<lambda>\u001b[0;34m(x)\u001b[0m\n\u001b[1;32m     59\u001b[0m \u001b[0;34m\u001b[0m\u001b[0m\n\u001b[1;32m     60\u001b[0m     \u001b[0;31m# Créer une nouvelle colonne pour les résumés générés\u001b[0m\u001b[0;34m\u001b[0m\u001b[0;34m\u001b[0m\u001b[0m\n\u001b[0;32m---> 61\u001b[0;31m     \u001b[0mdf\u001b[0m\u001b[0;34m[\u001b[0m\u001b[0;34m'résumé'\u001b[0m\u001b[0;34m]\u001b[0m \u001b[0;34m=\u001b[0m \u001b[0mdf\u001b[0m\u001b[0;34m[\u001b[0m\u001b[0;34m'article'\u001b[0m\u001b[0;34m]\u001b[0m\u001b[0;34m.\u001b[0m\u001b[0mapply\u001b[0m\u001b[0;34m(\u001b[0m\u001b[0;32mlambda\u001b[0m \u001b[0mx\u001b[0m\u001b[0;34m:\u001b[0m \u001b[0mgenerer_resume\u001b[0m\u001b[0;34m(\u001b[0m\u001b[0mx\u001b[0m\u001b[0;34m,\u001b[0m \u001b[0mmodel\u001b[0m\u001b[0;34m,\u001b[0m \u001b[0mtokenizer\u001b[0m\u001b[0;34m)\u001b[0m\u001b[0;34m)\u001b[0m\u001b[0;34m\u001b[0m\u001b[0;34m\u001b[0m\u001b[0m\n\u001b[0m\u001b[1;32m     62\u001b[0m \u001b[0;34m\u001b[0m\u001b[0m\n\u001b[1;32m     63\u001b[0m     \u001b[0;31m# Afficher le résultat ou sauvegarder les résultats dans un fichier\u001b[0m\u001b[0;34m\u001b[0m\u001b[0;34m\u001b[0m\u001b[0m\n",
            "\u001b[0;32m<ipython-input-35-2820c2e14b15>\u001b[0m in \u001b[0;36mgenerer_resume\u001b[0;34m(article, model, tokenizer, max_length)\u001b[0m\n\u001b[1;32m     49\u001b[0m     \u001b[0mresume\u001b[0m \u001b[0;34m=\u001b[0m \u001b[0mtokenizer\u001b[0m\u001b[0;34m.\u001b[0m\u001b[0mdecode\u001b[0m\u001b[0;34m(\u001b[0m\u001b[0msummary_ids\u001b[0m\u001b[0;34m[\u001b[0m\u001b[0;36m0\u001b[0m\u001b[0;34m]\u001b[0m\u001b[0;34m,\u001b[0m \u001b[0mskip_special_tokens\u001b[0m\u001b[0;34m=\u001b[0m\u001b[0;32mTrue\u001b[0m\u001b[0;34m)\u001b[0m\u001b[0;34m\u001b[0m\u001b[0;34m\u001b[0m\u001b[0m\n\u001b[1;32m     50\u001b[0m     \"\"\"   \n\u001b[0;32m---> 51\u001b[0;31m     \u001b[0;32mreturn\u001b[0m \u001b[0mresume\u001b[0m\u001b[0;34m\u001b[0m\u001b[0;34m\u001b[0m\u001b[0m\n\u001b[0m\u001b[1;32m     52\u001b[0m \u001b[0;34m\u001b[0m\u001b[0m\n\u001b[1;32m     53\u001b[0m \u001b[0;32mdef\u001b[0m \u001b[0mtraiter_ensemble_test\u001b[0m\u001b[0;34m(\u001b[0m\u001b[0mdataset_RCT\u001b[0m\u001b[0;34m,\u001b[0m \u001b[0mmodel\u001b[0m\u001b[0;34m,\u001b[0m \u001b[0mtokenizer\u001b[0m\u001b[0;34m)\u001b[0m\u001b[0;34m:\u001b[0m\u001b[0;34m\u001b[0m\u001b[0;34m\u001b[0m\u001b[0m\n",
            "\u001b[0;31mNameError\u001b[0m: name 'resume' is not defined"
          ]
        }
      ],
      "source": [
        "from transformers import LongformerTokenizer, BartTokenizer, BartForConditionalGeneration\n",
        "import torch\n",
        "import pandas as pd\n",
        "\n",
        "# Initialiser les tokenizers Longformer et BART\n",
        "longformer_tokenizer = LongformerTokenizer.from_pretrained('allenai/longformer-base-4096')\n",
        "bart_tokenizer = BartTokenizer.from_pretrained('facebook/bart-large-cnn')\n",
        "\n",
        "# Charger un modèle BART pour la génération de résumé\n",
        "#model = BartForConditionalGeneration.from_pretrained('facebook/bart-large-cnn')\n",
        "model = model\n",
        "\n",
        "\n",
        "def generer_resume(article, model, tokenizer, max_length=150):\n",
        "    \"\"\"\n",
        "    Fonction pour générer un résumé d'un article en utilisant notre modèle Longformer-BART.\n",
        "    \"\"\"\n",
        "    # Tokenisation de l'article\n",
        "    inputs = tokenizer(article, return_tensors=\"pt\", truncation=True, padding=True, max_length=1024)\n",
        "\n",
        "    # Si le modèle est en mode CPU, déplacer les entrées et le modèle sur le bon périphérique\n",
        "    device = torch.device(\"cuda\" if torch.cuda.is_available() else \"cpu\")\n",
        "    model.to(device)\n",
        "\n",
        "    inputs = {key: value.to(device) for key, value in inputs.items()}\n",
        "\n",
        "    # Obtenir les sorties du modèle\n",
        "    with torch.no_grad():\n",
        "        # Appeler la méthode forward du modèle en utilisant les bons paramètres\n",
        "        outputs = model(input_ids=inputs['input_ids'],\n",
        "                        attention_mask=inputs['attention_mask'],  # Remarque: utiliser 'attention_mask' ici\n",
        "                        decoder_input_ids=inputs['input_ids'],  # Utiliser les input_ids comme entrée pour le décodeur\n",
        "                        labels=None)\n",
        "\n",
        "    # Décoder le résumé depuis la sortie du modèle\n",
        "    # Utilisation de la méthode de génération du modèle BART sur les sorties de Longformer\n",
        "    summary_ids = model.bart.generate(\n",
        "        inputs['input_ids'],\n",
        "        max_length=max_length,\n",
        "        num_beams=4,\n",
        "        early_stopping=True\n",
        "    )\n",
        "\n",
        "    # Décoder les IDs générés pour obtenir le résumé\n",
        "    resume = tokenizer.decode(summary_ids[0], skip_special_tokens=True)\n",
        "\n",
        "    return resume\n",
        "\n",
        "def traiter_ensemble_test(dataset_RCT, model, tokenizer):\n",
        "    \"\"\"\n",
        "    Fonction qui traite l'ensemble du dataset_RCT et génère des résumés pour chaque article.\n",
        "    \"\"\"\n",
        "    # Convertir le dataset en DataFrame\n",
        "    df = pd.DataFrame(dataset_RCT)\n",
        "\n",
        "    # Créer une nouvelle colonne pour les résumés générés\n",
        "    df['résumé'] = df['article'].apply(lambda x: generer_resume(x, model, tokenizer))\n",
        "\n",
        "    return df[['identifiant', 'article', 'résumé']]\n",
        "\n",
        "\n",
        "# Traiter l'ensemble de test et générer les résumés\n",
        "resultats_obs = traiter_ensemble_test(df_articles_test, model, bart_tokenizer)\n",
        "\n",
        "# Afficher les résultats\n",
        "print(resultats_obs)\n",
        "\n",
        "# Supprimer la colonne 'article' et renommer les colonnes dans 'resultats' (pour mise au bon format pour la compétition)\n",
        "resultats_obs = resultats_obs.drop(columns=['article'])  # Supprimer la colonne 'article'\n",
        "resultats_obs = resultats_obs.rename(columns={'identifiant': 'id', 'résumé': 'abstract'})  # Renommer les colonnes\n"
      ]
    },
    {
      "cell_type": "markdown",
      "metadata": {
        "id": "PAowB22iIx1k"
      },
      "source": [
        "## Chargement de notre modèle fine-tuné sur les données \"RCT\" et constitué à partir des deux modèles bart et longformer, pour pouvoir l'utiliser pour l'ensemble de test et soumettre nos résumés pour la compétition"
      ]
    },
    {
      "cell_type": "code",
      "execution_count": null,
      "metadata": {
        "execution": {
          "iopub.execute_input": "2025-01-11T17:02:06.506543Z",
          "iopub.status.busy": "2025-01-11T17:02:06.506168Z",
          "iopub.status.idle": "2025-01-11T17:02:30.353611Z",
          "shell.execute_reply": "2025-01-11T17:02:30.352896Z",
          "shell.execute_reply.started": "2025-01-11T17:02:06.506486Z"
        },
        "id": "2iS_ldmvIx1l",
        "outputId": "74dba677-db9f-4430-d87f-a0f382fd8d3f"
      },
      "outputs": [
        {
          "name": "stderr",
          "output_type": "stream",
          "text": [
            "<ipython-input-14-e75a1597e4c7>:28: FutureWarning: You are using `torch.load` with `weights_only=False` (the current default value), which uses the default pickle module implicitly. It is possible to construct malicious pickle data which will execute arbitrary code during unpickling (See https://github.com/pytorch/pytorch/blob/main/SECURITY.md#untrusted-models for more details). In a future release, the default value for `weights_only` will be flipped to `True`. This limits the functions that could be executed during unpickling. Arbitrary objects will no longer be allowed to be loaded via this mode unless they are explicitly allowlisted by the user via `torch.serialization.add_safe_globals`. We recommend you start setting `weights_only=True` for any use case where you don't have full control of the loaded file. Please open an issue on GitHub for any issues related to this experimental feature.\n",
            "  model.load_state_dict(torch.load('/kaggle/input/longformer_bart_fine_tuned_rct/pytorch/default/1/model_weights.pth'))\n"
          ]
        }
      ],
      "source": [
        "#Charger le modèle fine tuné afin de l'utiliser\n",
        "import torch\n",
        "from transformers import LongformerModel, BartForConditionalGeneration, LongformerConfig\n",
        "import torch.nn as nn\n",
        "\n",
        "\n",
        "# Définir la classe LongformerBart\n",
        "class LongformerBart(nn.Module):\n",
        "    def __init__(self, longformer_model, bart_model):\n",
        "        super(LongformerBart, self).__init__()\n",
        "        self.longformer = longformer_model\n",
        "        self.bart = bart_model\n",
        "        self.longformer_projection = nn.Linear(768, 1024)  # Projeter de 768 à 1024\n",
        "\n",
        "    def forward(self, input_ids, attention_mask, decoder_input_ids=None, labels=None):\n",
        "        encoder_outputs = self.longformer(input_ids=input_ids, attention_mask=attention_mask)\n",
        "        encoder_hidden_states = encoder_outputs.last_hidden_state\n",
        "        encoder_hidden_states = self.longformer_projection(encoder_hidden_states)  # Appliquer la projection\n",
        "        decoder_outputs = self.bart(input_ids=decoder_input_ids, labels=labels, encoder_outputs=encoder_hidden_states)\n",
        "        return decoder_outputs\n",
        "\n",
        "# Charger Longformer et BART\n",
        "longformer_model = LongformerModel.from_pretrained('allenai/longformer-base-4096')\n",
        "bart = BartForConditionalGeneration.from_pretrained(\"facebook/bart-large-cnn\")\n",
        "\n",
        "# Charger les poids de notre modèle fine-tuné\n",
        "model = LongformerBart(longformer_model, bart)\n",
        "model.load_state_dict(torch.load('/kaggle/input/longformer_bart_fine_tuned_rct/pytorch/default/1/model_weights.pth'))\n",
        "#model.load_state_dict(torch.load('/kaggle/working/longformer_bart_finetuned_rct/model_weigths.pth')) # Remplacez par le bon chemin et cette ligne si vous réentrainez le modèle\n",
        "\n",
        "\n",
        "\n",
        "# Charger la configuration\n",
        "# Notez que vous devez avoir la configuration JSON pour le modèle personnalisé\n",
        "config = LongformerConfig.from_json_file('/kaggle/input/longformer_bart_fine_tuned_rct/pytorch/default/1/config.json')\n",
        "#config = LongformerConfig.from_json_file('/kaggle/working/longformer_bart_finetuned_rct/config.json') #idem : Remplacez par le bon chemin et cette ligne si vous réentrainez le modèle\n"
      ]
    },
    {
      "cell_type": "markdown",
      "metadata": {
        "id": "iLWHrovHIx1l"
      },
      "source": [
        "## Mise en forme des données \"RCT\" de test pour le test du modèle."
      ]
    },
    {
      "cell_type": "code",
      "execution_count": null,
      "metadata": {
        "execution": {
          "iopub.execute_input": "2025-01-11T17:02:40.627865Z",
          "iopub.status.busy": "2025-01-11T17:02:40.627556Z",
          "iopub.status.idle": "2025-01-11T17:02:40.881294Z",
          "shell.execute_reply": "2025-01-11T17:02:40.880588Z",
          "shell.execute_reply.started": "2025-01-11T17:02:40.627842Z"
        },
        "id": "jsUOO9q2Ix1l",
        "outputId": "165cd8ac-f723-4115-e759-1935982ae6cb"
      },
      "outputs": [
        {
          "name": "stdout",
          "output_type": "stream",
          "text": [
            "  identifiant                                            article\n",
            "0    26811968  Randomized Controlled Trial of Hospital-Based ...\n",
            "1    34737472  Behavioural intervention for adolescent uptake...\n",
            "2    34844893  Prediction of clinical response to corticoster...\n",
            "3    34969647  Feasibility and efficacy of a multidisciplinar...\n",
            "4    35532871  Iron homeostasis in heart transplant recipient...\n"
          ]
        }
      ],
      "source": [
        "#Mise en forme des données à tester\n",
        "\n",
        "import os\n",
        "import pandas as pd\n",
        "\n",
        "# Définir le chemin du dossier contenant les articles\n",
        "dossier_articles_test = \"/kaggle/input/m-2-maliash-resume-darticles-scientifiques/test/RCT_test/articles_RCT_test\"\n",
        "\n",
        "# Liste des fichiers dans le dossier\n",
        "fichiers_articles = [f for f in os.listdir(dossier_articles_test) if f.startswith(\"article-\")]\n",
        "\n",
        "# Dictionnaire pour stocker les articles par identifiant (avec contenu des fichiers)\n",
        "articles_test = {}\n",
        "\n",
        "# Remplir le dictionnaire avec les fichiers en fonction des identifiants\n",
        "for fichier in fichiers_articles:\n",
        "    # Extraire l'identifiant du fichier article\n",
        "    identifiant = fichier.split(\"-\")[1].split(\".\")[0]\n",
        "\n",
        "    # Lire le contenu du fichier\n",
        "    with open(os.path.join(dossier_articles_test, fichier), 'r') as f:\n",
        "        contenu_article = f.read()\n",
        "\n",
        "    # Ajouter l'article et son identifiant au dictionnaire\n",
        "    articles_test[identifiant] = {\"article\": contenu_article}\n",
        "\n",
        "# Convertir le dictionnaire en DataFrame\n",
        "df_articles_test = pd.DataFrame.from_dict(articles_test, orient='index')\n",
        "\n",
        "# Réinitialiser l'index pour que 'identifiant' devienne une colonne normale\n",
        "df_articles_test.reset_index(inplace=True)\n",
        "\n",
        "# Renommer les colonnes\n",
        "df_articles_test.columns = ['identifiant', 'article']\n",
        "# Vérifier le DataFrame\n",
        "print(df_articles_test.head())"
      ]
    },
    {
      "cell_type": "markdown",
      "metadata": {
        "id": "ut-bSp-ZIx1l"
      },
      "source": [
        "## Tokenisation des données et génération des résumés pour les articles de test de type \"RCT\""
      ]
    },
    {
      "cell_type": "code",
      "execution_count": null,
      "metadata": {
        "execution": {
          "iopub.execute_input": "2024-12-30T22:44:08.142326Z",
          "iopub.status.busy": "2024-12-30T22:44:08.142043Z",
          "iopub.status.idle": "2024-12-30T22:44:38.602767Z",
          "shell.execute_reply": "2024-12-30T22:44:38.601886Z",
          "shell.execute_reply.started": "2024-12-30T22:44:08.142269Z"
        },
        "id": "NLUppPzAIx1m",
        "outputId": "7d8f298c-49ac-41a3-ac93-975075d50a28"
      },
      "outputs": [
        {
          "name": "stderr",
          "output_type": "stream",
          "text": [
            "/usr/local/lib/python3.10/dist-packages/transformers/tokenization_utils_base.py:1601: FutureWarning: `clean_up_tokenization_spaces` was not set. It will be set to `True` by default. This behavior will be depracted in transformers v4.45, and will be then set to `False` by default. For more details check this issue: https://github.com/huggingface/transformers/issues/31884\n",
            "  warnings.warn(\n"
          ]
        },
        {
          "name": "stdout",
          "output_type": "stream",
          "text": [
            "   identifiant                                            article  \\\n",
            "0     26811968  Randomized Controlled Trial of Hospital-Based ...   \n",
            "1     34737472  Behavioural intervention for adolescent uptake...   \n",
            "2     34844893  Prediction of clinical response to corticoster...   \n",
            "3     34969647  Feasibility and efficacy of a multidisciplinar...   \n",
            "4     35532871  Iron homeostasis in heart transplant recipient...   \n",
            "5     35638317  The effect of duloxetine on mechanistic pain p...   \n",
            "6     36479935  Clinical Predictors of Adherence to Exercise T...   \n",
            "7     36621009  Supporting return to work after psychiatric ho...   \n",
            "8     37972955  LIGHTSITE III: 13-Month Efficacy and Safety Ev...   \n",
            "9     37991188  Evolution in Laparoscopic Gastrectomy From a R...   \n",
            "10    38052803  Long-term outcome of children with acute promy...   \n",
            "11    38060092  Efficacy and Safety of the Travoprost Intraocu...   \n",
            "12    38117526  Efficacy and Safety of PF-07038124 in Patients...   \n",
            "13    38184526  Prognostic significance of surgery and radioth...   \n",
            "14    38189649  Determinants of Subjective Mental and Function...   \n",
            "15    38197254  Daily skin-to-skin contact alters microbiota d...   \n",
            "16    38218840  The effectiveness of an m-Health intervention ...   \n",
            "17    38315470  Alirocumab in Pediatric Patients With Heterozy...   \n",
            "18    38417090  Effectiveness of Seizure Dogs for People With ...   \n",
            "19    38437855  Active vitamin D treatment in the prevention o...   \n",
            "20    38446126  Intravenous iron for heart failure, iron defic...   \n",
            "21    38531621  Guselkumab provides durable improvement across...   \n",
            "22    38591920  Multi-strain probiotics during pregnancy in wo...   \n",
            "23    38609994  The effects of telehealth-delivered mindfulnes...   \n",
            "24    38668732  A randomized controlled trial of a postdischar...   \n",
            "\n",
            "                                               résumé  \n",
            "0   Randomized Controlled Trial of Hospital-Based ...  \n",
            "1   Behavioural intervention for adolescent uptake...  \n",
            "2   Prediction of clinical response to corticoster...  \n",
            "3   Feasibility and efficacy of a multidisciplinar...  \n",
            "4   Iron homeostasis in heart transplant recipient...  \n",
            "5   abstract.com. The abstract is a comprehensive ...  \n",
            "6   Heart Failure: A Controlled Trial Investigatin...  \n",
            "7   Supporting return to work after psychiatric ho...  \n",
            "8   LIGHTSITE III: 13-month Efficacy and Safety Ev...  \n",
            "9   Evolution in Laparoscopic Gastrectomy From a R...  \n",
            "10  Arsenic-based therapy substantially improves t...  \n",
            "11  Travoprost Intraocular Implant Reduces Topical...  \n",
            "12  Atopic dermatitis and plaque psoriasis are chr...  \n",
            "13  Prognostic significance of surgery and radioth...  \n",
            "14  ICU survivors frequently suffer from impairmen...  \n",
            "15  Daily skin-to-skin contact alters microbiota d...  \n",
            "16  The effectiveness of an m-Health intervention ...  \n",
            "17  Alirocumab in Pediatric Patients With Heterozy...  \n",
            "18  Effectiveness of Seizure Dogs for People With ...  \n",
            "19  Active vitamin D treatment in the prevention o...  \n",
            "20  Intravenous iron increases haemoglobin, improv...  \n",
            "21  Guselkumab provides durable improvement across...  \n",
            "22  Multi-strain probiotics during pregnancy in wo...  \n",
            "23  The effects of telehealth-delivered mindfulnes...  \n",
            "24  A randomized controlled trial of a postdischar...  \n"
          ]
        }
      ],
      "source": [
        "from transformers import LongformerTokenizer, BartTokenizer, BartForConditionalGeneration\n",
        "import torch\n",
        "import pandas as pd\n",
        "\n",
        "# Initialiser les tokenizers Longformer et BART\n",
        "longformer_tokenizer = LongformerTokenizer.from_pretrained('allenai/longformer-base-4096')\n",
        "bart_tokenizer = BartTokenizer.from_pretrained('facebook/bart-large-cnn')\n",
        "\n",
        "# Charger un modèle BART pour la génération de résumé\n",
        "#model = BartForConditionalGeneration.from_pretrained('facebook/bart-large-cnn')\n",
        "model = model\n",
        "\n",
        "def generer_resume(article, model, tokenizer, max_length=150):\n",
        "    \"\"\"\n",
        "    Fonction pour générer un résumé d'un article en utilisant notre modèle Longformer-BART.\n",
        "    \"\"\"\n",
        "    # Tokenisation de l'article\n",
        "    inputs = tokenizer(article, return_tensors=\"pt\", truncation=True, padding=True, max_length=1024)\n",
        "\n",
        "    # Si le modèle est en mode CPU, déplacer les entrées et le modèle sur le bon périphérique\n",
        "    device = torch.device(\"cuda\" if torch.cuda.is_available() else \"cpu\")\n",
        "    model.to(device)\n",
        "    inputs = {key: value.to(device) for key, value in inputs.items()}\n",
        "\n",
        "    # Obtenir les sorties du modèle\n",
        "    with torch.no_grad():\n",
        "        # Appeler la méthode forward du modèle en utilisant les bons paramètres\n",
        "        outputs = model(input_ids=inputs['input_ids'],\n",
        "                        attention_mask=inputs['attention_mask'],  # Remarque: utilisez 'attention_mask' ici\n",
        "                        decoder_input_ids=inputs['input_ids'],  # Utiliser les input_ids comme entrée pour le décodeur\n",
        "                        labels=None)\n",
        "\n",
        "    # Décoder le résumé depuis la sortie du modèle\n",
        "    # Utilisation de la méthode de génération du modèle BART sur les sorties de Longformer\n",
        "    summary_ids = model.bart.generate(\n",
        "        inputs['input_ids'],\n",
        "        max_length=max_length,\n",
        "        num_beams=4,\n",
        "        early_stopping=True\n",
        "    )\n",
        "\n",
        "    # Décoder les IDs générés pour obtenir le résumé\n",
        "    resume = tokenizer.decode(summary_ids[0], skip_special_tokens=True)\n",
        "\n",
        "    return resume\n",
        "\n",
        "def traiter_ensemble_test(dataset_RCT, model, tokenizer):\n",
        "    \"\"\"\n",
        "    Fonction qui traite l'ensemble du dataset_RCT et génère des résumés pour chaque article.\n",
        "    \"\"\"\n",
        "    # Convertir le dataset en DataFrame\n",
        "    df = pd.DataFrame(dataset_RCT)\n",
        "\n",
        "    # Créer une nouvelle colonne pour les résumés générés\n",
        "    df['résumé'] = df['article'].apply(lambda x: generer_resume(x, model, tokenizer))\n",
        "\n",
        "    return df[['identifiant', 'article', 'résumé']]\n",
        "\n",
        "\n",
        "# Traiter l'ensemble de test et générer les résumés\n",
        "resultats_rct = traiter_ensemble_test(df_articles_test, model, bart_tokenizer)\n",
        "\n",
        "# Afficher les résultats\n",
        "print(resultats_rct)\n",
        "\n",
        "# Supprimer la colonne 'article' et renommer les colonnes dans 'resultats' (pour mise au bon format pour la compétition)\n",
        "resultats_rct = resultats_rct.drop(columns=['article'])  # Supprimer la colonne 'article'\n",
        "resultats_rct = resultats_rct.rename(columns={'identifiant': 'id', 'résumé': 'abstract'})  # Renommer les colonnes"
      ]
    },
    {
      "cell_type": "markdown",
      "metadata": {
        "id": "CLEvRLR6Ix1m"
      },
      "source": [
        "## Fusion de nos deux fichiers de résumés générés (resultats_obs et resultats_rct) en un seul fichier submission, puis conversion en csv pour soumission à la compétition (permet d'avoir le score rouge)."
      ]
    },
    {
      "cell_type": "code",
      "execution_count": null,
      "metadata": {
        "execution": {
          "iopub.execute_input": "2025-01-11T17:16:40.901487Z",
          "iopub.status.busy": "2025-01-11T17:16:40.901187Z",
          "iopub.status.idle": "2025-01-11T17:16:40.922638Z",
          "shell.execute_reply": "2025-01-11T17:16:40.921965Z",
          "shell.execute_reply.started": "2025-01-11T17:16:40.901463Z"
        },
        "id": "38SYEkHnIx1m"
      },
      "outputs": [],
      "source": [
        "# Concaténer les deux DataFrames\n",
        "resultats = pd.concat([resultats_obs, resultats_rct], ignore_index=True)\n",
        "\n",
        "# Sauvegarder le DataFrame concaténé dans un fichier CSV, si nécessaire\n",
        "resultats.to_csv('submission.csv', index=False)\n",
        "\n",
        "# Afficher le DataFrame concaténé\n",
        "print(resultats)"
      ]
    },
    {
      "cell_type": "markdown",
      "metadata": {
        "id": "CzzIUvEIIx1n"
      },
      "source": [
        "# Résultats du modèle composé à partir de longformer + bart\n",
        "\n",
        "Le score rouge obtenu lors de la soumission à la compétition est de 0.065 : c'est à peine au-dessus du modèle \"BART\" seul (et non fine-tuné quant à lui) !\n",
        "\n",
        "Comment s'explique cela ?\n",
        "\n",
        "Nous avons vu que, pour ne pas outrepasser les capacités de la mémoire disponible via les GPU de Kaggle, nous étions obligés de nous limiter à 1024 tokens. Ce, tant lors du fine-tuning du modèle (fonction tokenize_function(examples):\n",
        "    \n",
        "    \"model_inputs = longformer_tokenizer(\n",
        "        examples[\"article\"],\n",
        "        #max_length=4096, #trop long pour le GPU de kaggle...nous en revenons donc aux fameux 1024 token max, d'où nous partions avec BART seul.\n",
        "        max_length=1024,\n",
        "        truncation=True, \")\n",
        "\n",
        "que lors de son utilisation sur les articles de test.\n",
        "\n",
        "Or, l'ensemble de ces articles sont des articles longs - environ 20000 mots de longueur par article.\n",
        "\n",
        "En pratique, les modèles de langage Longformer utilisent des tokenizers basés sur des sous-mots : certains mots peuvent être décomposés en plusieurs token, notamment les mots rares ou composés (nota : le modèle Llama - plus généraliste que les nôtres - utilisé par notre enseignant pour obtenir son score dans la compétition, utilise le même type de tokenisation basée sur des sous-mots). Inversement, les mots courants sont tokenisés par des token uniques, ce qui permet d'obtenir une représentation très compacte par ces tokenizers : une longueur de 20000 mots équivaut à entre 3000 et 5000 token pour un article.\n",
        "Ce n'est pas supérieur aux 4096 token que peut prendre en entrée le modèle longformer que nous avons utilisé - mais c'est très supérieur aux 1024 token maximum, auxquels nous avons été obligés de \"brider\" ce modèle sur la plateforme kaggle, du fait des contraintes de GPU.\n",
        "En clair : nos résumés sont faits sur la base uniquement (à peu près) du premier tiers de chaque article scientifique !\n",
        "Ce, tant lors de l'entrainement, que lors du test.\n",
        "Ainsi, les deux autres tiers de l'article ne sont en fait pas résumés du tout : ils ne sont tout simplement pas pris en compte, alors qu'ils contiennent généralement des éléments tout aussi importants que le début de l'article, à inclure dans le résumé.\n",
        "Et cette situation est finalement identique avec BART seul (qui est naturellement plafonné à 1024 token), et avec notre modèle longformer-bart (que nous sommes obligés de \"brider\" à 1024 token du fait des contraintes de mémoire du GPU sur kaggle).\n",
        "\n",
        "Ceci explique les scores très médiocres obtenus.\n",
        "\n",
        "Pour faire mieux, tout en tenant compte des limites de notre plateforme (kaggle), il nous faut donc nous diriger vers d'autres stratagèmes, applicables dans le temps qu'il nous reste pour cette compétition et le rendu de ce projet.\n",
        "\n",
        "Nous choisissons donc de tester le \"chunking\" des articles scientifiques de l'ensemble de test, qui est le plus simple à mettre en oeuvre.\n",
        "\n",
        "\n",
        "\n",
        "        "
      ]
    },
    {
      "cell_type": "markdown",
      "metadata": {
        "id": "qetizzsDIx1n"
      },
      "source": [
        "# Test de la méthode du résumé par morceaux des articles de l'ensemble de test\n",
        "\n",
        "Concrètement, nous allons donc subdiviser chaque article à résumer en \"morceaux\" de 1024 token chacun, puis faire résumer par notre modèle chaque morceau, et, simplement, concaténer à la suite tous ces résumés entre eux pour former un résumé de l'article entier.\n",
        "\n",
        "La méthode est frustre, car on n'aura pas les liens et la fluidité entre les différents \"morceaux\".\n",
        "En outre, couper à 1024 token peut couper au milieu d'une phrase, par exemple - mais c'est toujours mieux que de prendre le résumé d'un seul tiers de l'article pour le résumé de l'article tout entier ! Et, surtout, c'est faisable dans le délai et avec les moyens matériels et humains dont nous disposons.\n"
      ]
    },
    {
      "cell_type": "markdown",
      "metadata": {
        "id": "PafE0uwSIx1n"
      },
      "source": [
        "## articles \"OBS\""
      ]
    },
    {
      "cell_type": "code",
      "execution_count": null,
      "metadata": {
        "id": "a9uEm6UFIx1o"
      },
      "outputs": [],
      "source": [
        "from transformers import LongformerTokenizer, BartTokenizer, BartForConditionalGeneration\n",
        "import torch\n",
        "import pandas as pd\n",
        "\n",
        "\n",
        "# Initialiser les tokenizers Longformer et BART\n",
        "longformer_tokenizer = LongformerTokenizer.from_pretrained('allenai/longformer-base-4096')\n",
        "bart_tokenizer = BartTokenizer.from_pretrained('facebook/bart-large-cnn')\n",
        "\n",
        "# Charger un modèle BART pour la génération de résumé\n",
        "#model = BartForConditionalGeneration.from_pretrained('facebook/bart-large-cnn')\n",
        "model = model\n",
        "\n",
        "\n",
        "def generer_resume(article, model, tokenizer, max_length=150,chunk_size=1024):\n",
        "    \"\"\"\n",
        "    Fonction pour générer un résumé d'un article en utilisant notre modèle Longformer-BART.\n",
        "    \"\"\"\n",
        "\n",
        "    # Diviser le texte en morceaux\n",
        "    #morceaux = [article[i:i + chunk_size] for i in range(0, len(article), chunk_size)]\n",
        "    morceaux = [\n",
        "    (article[i:i + chunk_size] + ' ' * (chunk_size - len(article[i:i + chunk_size])))\n",
        "    for i in range(0, len(article), chunk_size)\n",
        "]\n",
        "    resumes = []\n",
        "\n",
        "    device = torch.device(\"cuda\" if torch.cuda.is_available() else \"cpu\")\n",
        "    model.to(device)\n",
        "\n",
        "    for morceau in morceaux:\n",
        "        # Générer un résumé pour chaque morceau\n",
        "        inputs = tokenizer(morceau, padding='max_length', return_tensors=\"pt\", truncation=True, max_length=chunk_size)\n",
        "        # Si le modèle est en mode CPU, déplacer les entrées et le modèle sur le bon périphérique\n",
        "\n",
        "        inputs = {key: (value.to(device) if isinstance(value, torch.Tensor) else value) for key, value in inputs.items()}\n",
        "        #inputs = {key: value.to(device) for key, value in inputs.items()}\n",
        "\n",
        "\n",
        "         # Obtenir les sorties du modèle\n",
        "        with torch.no_grad():\n",
        "            # Appeler la méthode forward du modèle en utilisant les bons paramètres\n",
        "            outputs = model(input_ids=inputs['input_ids'],\n",
        "                            attention_mask=inputs['attention_mask'],  # Remarque: utiliser 'attention_mask' ici\n",
        "                            decoder_input_ids=inputs['input_ids'],  # Utiliser les input_ids comme entrée pour le décodeur\n",
        "                            labels=None)\n",
        "        # Décoder le résumé depuis la sortie du modèle\n",
        "        # Utilisation de la méthode de génération du modèle BART sur les sorties de Longformer\n",
        "        summary_ids = model.bart.generate(\n",
        "            inputs['input_ids'],\n",
        "            max_length=max_length,\n",
        "            num_beams=4,\n",
        "            early_stopping=True\n",
        "            )\n",
        "\n",
        "\n",
        "        resumes.append(tokenizer.decode(summary_ids[0], skip_special_tokens=True))\n",
        "\n",
        "    # Combiner les résumés partiels en un seul texte\n",
        "    resume = \" \".join(resumes)\n",
        "\n",
        "    return resume\n",
        "\n",
        "\n",
        "\n",
        "\n",
        "def traiter_ensemble_test(dataset_RCT, model, tokenizer):\n",
        "    \"\"\"\n",
        "    Fonction qui traite l'ensemble du dataset_RCT et génère des résumés pour chaque article.\n",
        "    \"\"\"\n",
        "    # Convertir le dataset en DataFrame\n",
        "    df = pd.DataFrame(dataset_RCT)\n",
        "\n",
        "    # Créer une nouvelle colonne pour les résumés générés\n",
        "    df['résumé'] = df['article'].apply(lambda x: generer_resume(x, model, tokenizer))\n",
        "\n",
        "    return df[['identifiant', 'article', 'résumé']]\n",
        "\n",
        "\n",
        "\n",
        "# Traiter l'ensemble de test et générer les résumés\n",
        "resultats_obs = traiter_ensemble_test(df_articles_test, model, bart_tokenizer)\n",
        "\n",
        "# Afficher les résultats\n",
        "print(resultats_obs)\n",
        "\n",
        "# Supprimer la colonne 'article' et renommer les colonnes dans 'resultats' (pour mise au bon format pour la compétition)\n",
        "resultats_obs = resultats_obs.drop(columns=['article'])  # Supprimer la colonne 'article'\n",
        "resultats_obs = resultats_obs.rename(columns={'identifiant': 'id', 'résumé': 'abstract'})  # Renommer les colonnes\n"
      ]
    },
    {
      "cell_type": "markdown",
      "metadata": {
        "id": "zPvtK36zIx1o"
      },
      "source": [
        "## Articles \"RCT\""
      ]
    },
    {
      "cell_type": "code",
      "execution_count": null,
      "metadata": {
        "execution": {
          "iopub.execute_input": "2025-01-11T17:02:56.203067Z",
          "iopub.status.busy": "2025-01-11T17:02:56.202754Z",
          "iopub.status.idle": "2025-01-11T17:14:58.522648Z",
          "shell.execute_reply": "2025-01-11T17:14:58.521807Z",
          "shell.execute_reply.started": "2025-01-11T17:02:56.203041Z"
        },
        "id": "RbpJlU6-Ix1o",
        "outputId": "445275d5-a45f-46d6-9e57-64610318ca30"
      },
      "outputs": [
        {
          "name": "stderr",
          "output_type": "stream",
          "text": [
            "/usr/local/lib/python3.10/dist-packages/transformers/tokenization_utils_base.py:1601: FutureWarning: `clean_up_tokenization_spaces` was not set. It will be set to `True` by default. This behavior will be depracted in transformers v4.45, and will be then set to `False` by default. For more details check this issue: https://github.com/huggingface/transformers/issues/31884\n",
            "  warnings.warn(\n"
          ]
        },
        {
          "name": "stdout",
          "output_type": "stream",
          "text": [
            "   identifiant                                            article  \\\n",
            "0     26811968  Randomized Controlled Trial of Hospital-Based ...   \n",
            "1     34737472  Behavioural intervention for adolescent uptake...   \n",
            "2     34844893  Prediction of clinical response to corticoster...   \n",
            "3     34969647  Feasibility and efficacy of a multidisciplinar...   \n",
            "4     35532871  Iron homeostasis in heart transplant recipient...   \n",
            "5     35638317  The effect of duloxetine on mechanistic pain p...   \n",
            "6     36479935  Clinical Predictors of Adherence to Exercise T...   \n",
            "7     36621009  Supporting return to work after psychiatric ho...   \n",
            "8     37972955  LIGHTSITE III: 13-Month Efficacy and Safety Ev...   \n",
            "9     37991188  Evolution in Laparoscopic Gastrectomy From a R...   \n",
            "10    38052803  Long-term outcome of children with acute promy...   \n",
            "11    38060092  Efficacy and Safety of the Travoprost Intraocu...   \n",
            "12    38117526  Efficacy and Safety of PF-07038124 in Patients...   \n",
            "13    38184526  Prognostic significance of surgery and radioth...   \n",
            "14    38189649  Determinants of Subjective Mental and Function...   \n",
            "15    38197254  Daily skin-to-skin contact alters microbiota d...   \n",
            "16    38218840  The effectiveness of an m-Health intervention ...   \n",
            "17    38315470  Alirocumab in Pediatric Patients With Heterozy...   \n",
            "18    38417090  Effectiveness of Seizure Dogs for People With ...   \n",
            "19    38437855  Active vitamin D treatment in the prevention o...   \n",
            "20    38446126  Intravenous iron for heart failure, iron defic...   \n",
            "21    38531621  Guselkumab provides durable improvement across...   \n",
            "22    38591920  Multi-strain probiotics during pregnancy in wo...   \n",
            "23    38609994  The effects of telehealth-delivered mindfulnes...   \n",
            "24    38668732  A randomized controlled trial of a postdischar...   \n",
            "\n",
            "                                               résumé  \n",
            "0   Randomized Controlled Trial of Hospital-Based ...  \n",
            "1   Unplanned pregnancy can have a major impact on...  \n",
            "2   Plantar fasciitis (PF) is a common condition a...  \n",
            "3   Feasibility and efficacy of a multidisciplinar...  \n",
            "4   Iron homeostasis in heart transplant recipient...  \n",
            "5   The effect of duloxetine on mechanistic pain p...  \n",
            "6   Cardiac rehabilitation (CR) improves exercise ...  \n",
            "7   Supporting return to work after psychiatric ho...  \n",
            "8   Age-related macular degeneration (AMD) is a re...  \n",
            "9   Evolution in Laparoscopic Gastrectomy From a R...  \n",
            "10  Arsenic-based therapy substantially improves t...  \n",
            "11  Glaucoma therapies have improved and diversifi...  \n",
            "12  Atopic dermatitis and plaque psoriasis are chr...  \n",
            "13  Prostate cancer (PC) is a significant disease ...  \n",
            "14  ICU survivors frequently suffer from impairmen...  \n",
            "15  Daily skin-to-skin contact alters microbiota d...  \n",
            "16  The effectiveness of an m-Health intervention ...  \n",
            "17  Alirocumab in Pediatric Patients With Heterozy...  \n",
            "18  Epilepsy imposes a significant clinical and ec...  \n",
            "19  Active vitamin D treatment in the prevention o...  \n",
            "20  Intravenous iron increases haemoglobin, improv...  \n",
            "21  Guselkumab provides durable improvement across...  \n",
            "22  Multi-strain probiotics during pregnancy in wo...  \n",
            "23  Chronic low back pain (CLBP) is a costly probl...  \n",
            "24  A randomized controlled trial of a postdischar...  \n"
          ]
        }
      ],
      "source": [
        "from transformers import LongformerTokenizer, BartTokenizer, BartForConditionalGeneration\n",
        "import torch\n",
        "import pandas as pd\n",
        "\n",
        "\n",
        "# Initialiser les tokenizers Longformer et BART\n",
        "longformer_tokenizer = LongformerTokenizer.from_pretrained('allenai/longformer-base-4096')\n",
        "bart_tokenizer = BartTokenizer.from_pretrained('facebook/bart-large-cnn')\n",
        "\n",
        "# Charger un modèle BART pour la génération de résumé\n",
        "#model = BartForConditionalGeneration.from_pretrained('facebook/bart-large-cnn')\n",
        "model = model\n",
        "\n",
        "\n",
        "def generer_resume(article, model, tokenizer, max_length=150,chunk_size=1024):\n",
        "    \"\"\"\n",
        "    Fonction pour générer un résumé d'un article en utilisant notre modèle Longformer-BART.\n",
        "    \"\"\"\n",
        "\n",
        "    # Diviser le texte en morceaux\n",
        "    #morceaux = [article[i:i + chunk_size] for i in range(0, len(article), chunk_size)]\n",
        "    morceaux = [\n",
        "    (article[i:i + chunk_size] + ' ' * (chunk_size - len(article[i:i + chunk_size])))\n",
        "    for i in range(0, len(article), chunk_size)\n",
        "]\n",
        "    resumes = []\n",
        "\n",
        "    device = torch.device(\"cuda\" if torch.cuda.is_available() else \"cpu\")\n",
        "    model.to(device)\n",
        "\n",
        "    for morceau in morceaux:\n",
        "        # Générer un résumé pour chaque morceau\n",
        "        inputs = tokenizer(morceau, padding='max_length', return_tensors=\"pt\", truncation=True, max_length=chunk_size)\n",
        "        # Si le modèle est en mode CPU, déplacer les entrées et le modèle sur le bon périphérique\n",
        "\n",
        "        inputs = {key: (value.to(device) if isinstance(value, torch.Tensor) else value) for key, value in inputs.items()}\n",
        "        #inputs = {key: value.to(device) for key, value in inputs.items()}\n",
        "\n",
        "\n",
        "         # Obtenir les sorties du modèle\n",
        "        with torch.no_grad():\n",
        "            # Appeler la méthode forward du modèle en utilisant les bons paramètres\n",
        "            outputs = model(input_ids=inputs['input_ids'],\n",
        "                            attention_mask=inputs['attention_mask'],  # Remarque: utiliser 'attention_mask' ici\n",
        "                            decoder_input_ids=inputs['input_ids'],  # Utiliser les input_ids comme entrée pour le décodeur\n",
        "                            labels=None)\n",
        "        # Décoder le résumé depuis la sortie du modèle\n",
        "        # Utilisation de la méthode de génération du modèle BART sur les sorties de Longformer\n",
        "        summary_ids = model.bart.generate(\n",
        "            inputs['input_ids'],\n",
        "            max_length=max_length,\n",
        "            num_beams=4,\n",
        "            early_stopping=True\n",
        "            )\n",
        "\n",
        "\n",
        "        resumes.append(tokenizer.decode(summary_ids[0], skip_special_tokens=True))\n",
        "\n",
        "    # Combiner les résumés partiels en un seul texte\n",
        "    resume = \" \".join(resumes)\n",
        "\n",
        "    return resume\n",
        "\n",
        "\n",
        "\n",
        "\n",
        "def traiter_ensemble_test(dataset_RCT, model, tokenizer):\n",
        "    \"\"\"\n",
        "    Fonction qui traite l'ensemble du dataset_RCT et génère des résumés pour chaque article.\n",
        "    \"\"\"\n",
        "    # Convertir le dataset en DataFrame\n",
        "    df = pd.DataFrame(dataset_RCT)\n",
        "\n",
        "    # Créer une nouvelle colonne pour les résumés générés\n",
        "    df['résumé'] = df['article'].apply(lambda x: generer_resume(x, model, tokenizer))\n",
        "\n",
        "    return df[['identifiant', 'article', 'résumé']]\n",
        "\n",
        "\n",
        "\n",
        "# Traiter l'ensemble de test et générer les résumés\n",
        "resultats_rct = traiter_ensemble_test(df_articles_test, model, bart_tokenizer)\n",
        "\n",
        "# Afficher les résultats\n",
        "print(resultats_rct)\n",
        "\n",
        "# Supprimer la colonne 'article' et renommer les colonnes dans 'resultats' (pour mise au bon format pour la compétition)\n",
        "resultats_rct = resultats_rct.drop(columns=['article'])  # Supprimer la colonne 'article'\n",
        "resultats_rct = resultats_rct.rename(columns={'identifiant': 'id', 'résumé': 'abstract'})  # Renommer les colonnes"
      ]
    },
    {
      "cell_type": "markdown",
      "metadata": {
        "id": "3Ks_rSoUIx1p"
      },
      "source": [
        "## Fusion de nos deux fichiers de résumés générés (resultats_obs et resultats_rct) en un seul fichier submission, puis conversion en csv pour soumission à la compétition (permet d'avoir le score rouge)."
      ]
    },
    {
      "cell_type": "code",
      "execution_count": null,
      "metadata": {
        "id": "3d8-_skfIx1p"
      },
      "outputs": [],
      "source": [
        "# Concaténer les deux DataFrames\n",
        "resultats = pd.concat([resultats_obs, resultats_rct], ignore_index=True)\n",
        "\n",
        "# Sauvegarder le DataFrame concaténé dans un fichier CSV, si nécessaire\n",
        "resultats.to_csv('submission.csv', index=False)\n",
        "\n",
        "# Afficher le DataFrame concaténé\n",
        "print(resultats)"
      ]
    },
    {
      "cell_type": "markdown",
      "metadata": {
        "id": "JOaHIKsLIx1p",
        "jp-MarkdownHeadingCollapsed": true
      },
      "source": [
        "# Résultats du \"chunking\" des articles à résumer\n",
        "\n",
        "Le score rouge est doublé (nous passons de 0.065 à 0.135 sur l'échantillon testé lors de la soumission à la compétition - 0.151 sur la totalité de la soumission, résultat visible une fois la compétition close).\n",
        "La méthode, pour \"frustre\" qu'elle soit, est donc efficace.\n",
        "\n",
        "Elle est \"frustre\", parce que comme dit en introduction, on n'implémente rien qui permette au modèle de faire du lien entre les différents \"chunk\" de chaque article, et parce que côté résumé, on se contente de mettre bout à bout les sous-résumés obtenus, pour construire le résumé total de l'article entier.\n",
        "\n",
        "Elle est \"frustre\" aussi pour une autre raison : nous n'avons effectué cette subdivision des articles que sur l'ensemble de test. Mais en revanche, nous fine-tunons toujours notre modèle sur les articles du train set sans les avoir, quant à eux, subdivisés en morceaux de 1024 token chacun !\n",
        "En d'autres termes, nous fine-tunons toujours notre modèle à une tâche de résumé du premier tiers de chaque article scienfique...en lui fournissant comme étiquette le résumé total de ce même article.\n",
        "Mais on a estimé, et le score nous donne raison, que le modèle pré-entrainé était déjà pré-entraîné, et que le fine-tuner avec cette approximation était en fait déjà \"pas trop mal\". Surtout, le coût de l'implémentation du chunking sur l'ensemble d'entrainement, plus lourd en durée de travail humain et en temps de travail de la machine nécessaires, que sur l'ensemble de test (*), était peu compatible avec le délai nous 0restant alors pour participer à la compétition.\n",
        "\n",
        "\n",
        "(*) Il nous faut préciser ici le caractère, malheureusement chronophage, de la prise en mains de la plateforme kaggle, que nous n'avions jamais utilisée, ainsi que le caractère malcommode, pour les novices que nous étions, de son dossier \"working\", à la capacité réduite par rapport à nos besoins, et dont la touche \"download\" buguait, nous forçant à reprendre de zéro, et ce à plusieurs reprises, le fine-tuning de nos modèles durant de longues heures... Ce temps n'a pu être utilisé à des explorations plus en rapport direct avec les LLM, ce qui est source de regrets pour nous."
      ]
    },
    {
      "cell_type": "markdown",
      "metadata": {
        "id": "TyZImKWTIx1p"
      },
      "source": [
        "# Limites et perspectives\n",
        "\n",
        "\n",
        "Comme dit à l'instant, nous pourrions améliorer encore le score en approfondissant et affinant la stratégie de chunking de nos articles.\n",
        "Par exemple, nous apprenons que nous pourrions implémenter une couche d'attention hiérarchique qui résume les chunks avant de les passer à la partie BART de notre modèle, afin que ce dernier puisse avoir une compréhension des relations entre ces différents chunk.\n",
        "Bien évidemment, nous pourrions mettre en place le même chunking pour améliorer le fine-tuning sur les articles de l'ensemble d'entrainement du modèle, car celui-ci consisterait alors réellement à mettre en lien chaque article en entier, avec son résumé complet.\n",
        "\n",
        "Nous avons construit un modèle utilisant les transformer \"longformer\" et \"bart\", ce qui peut poser plusieurs questions :\n",
        "\n",
        "- la première est que, au vu du faible écart entre le score rouge (exécrable) sur bart non fine-tuné, et le score de notre modèle \"hybride\" fine-tuné, le choix du modèle et son fine-tuning ont semblé finalement, dans l'environnement informatique à notre disposition, avec ses limites (1024 token...), bien moins importants que la bonne préparation (chunking...) des textes à résumer.\n",
        "Si nous avions eu le temps, nous aurions pu effectuer le fine-tuning et le test de bart seul sur les articles de test découpés en chunk, pour comparer !\n",
        "\n",
        "- ce faible écart entre bart non fine-tuné, et notre modèle \"hybride\" (dument fine-tuné), aurait sans doute été bien plus important dans un environnement de travail (capacité GPU, etc) nous permettant d'utiliser réellement les capacités de longformer (4096 token). Dit autrement, la construction du modèle \"hybride\", pour une utilisation dans l'environnement kaggle, a été du temps de travail inutilement utilisé (sauf pour notre apprentissage bien sûr, mais si nous étions en entreprise ce temps aurait constitué une perte inutile - et nous y avons consacré un temps assez long).\n",
        "\n",
        "En revanche, dans un autre environnement informatique, plus capacitaire, ce temps de construction aurait été très utile, puisqu'évitant de devoir effectuer le moindre chunking ensuite.\n",
        "\n",
        "Un apprentissage pratique issu de la réalisation de ce projet est donc, pour nous, qu'il faut en premier bien connaître l'environnement informatique dans lequel nous travaillons, et ses capacités, puis construire nos solutions dans ce cadre, en les y adaptant dès le départ. Et non construire des solutions puis se rendre compte que l'environnement nous contraint à les brider.\n",
        "\n",
        "- la seconde est que nous avons estimé qu'un résumé \"de qualité\" était un résumé effectué avec l'aide d'un modèle pouvant générer du texte.\n",
        "C'est à dire qu'un résumé \"de qualité\" était ce qu'on appelle un résumé abstractif, qui a en effet pour qualité d'être plus fluide que la simple juxtaposition des phrases jugées importantes par le modèle, et par suite (simplement) copiées du texte par ses soins (cas des résumés extractifs).\n",
        "\n",
        "Cependant, dans un article récent, Adrien Guille et Saïd Raoufdine remarquent que : \"Toutefois, les résumés abstractifs générés par ces outils peuvent être\n",
        "biaisés, non informatifs voire même mensongers. Ainsi, dans certains contextes sensibles (e.g. résumé d’articles scientifiques ou d’articles de presse), le résumé\n",
        "extractif reste une approche plus fiable.\" (Raoufdine Said, Adrien Guille. Résumé interactif de documents. 24ème Conférence sur l’Extraction\n",
        "et la Gestion des Connaissances (EGC), Jan 2024, Dijon, France. hal-04448464 - https://hal.science/hal-04448464v1/file/1002963.pdf)\n",
        "\n",
        "En outre, notre chunking \"frustre\" fait probablement perdre pas mal de ses qualités de fluidité au résumé abstractif tel que généré en pratique sur nos articles de test...\n",
        "\n",
        "Deux raisons pour lesquelles finalement, le modèle longformer seul (qui n'est pas un modèle générateur de texte), aurait pu être pertinent, plutôt qu'un modèle générant du texte (comme bart) ou comportant un sous-modèle générant du texte (comme notre hybride \"longformer-bart\"). En effet, il avait toutes les qualités requises pour être un bon modèle de résumé extractif sur nos articles scientifiques longs."
      ]
    }
  ],
  "metadata": {
    "accelerator": "GPU",
    "colab": {
      "gpuType": "T4",
      "provenance": []
    },
    "kaggle": {
      "accelerator": "none",
      "dataSources": [
        {
          "databundleVersionId": 10480827,
          "sourceId": 90248,
          "sourceType": "competition"
        },
        {
          "isSourceIdPinned": true,
          "modelId": 205264,
          "modelInstanceId": 183064,
          "sourceId": 214728,
          "sourceType": "modelInstanceVersion"
        },
        {
          "isSourceIdPinned": true,
          "modelId": 205927,
          "modelInstanceId": 183739,
          "sourceId": 215510,
          "sourceType": "modelInstanceVersion"
        }
      ],
      "dockerImageVersionId": 30823,
      "isGpuEnabled": false,
      "isInternetEnabled": true,
      "language": "python",
      "sourceType": "notebook"
    },
    "kernelspec": {
      "display_name": "Python 3",
      "language": "python",
      "name": "python3"
    },
    "language_info": {
      "codemirror_mode": {
        "name": "ipython",
        "version": 3
      },
      "file_extension": ".py",
      "mimetype": "text/x-python",
      "name": "python",
      "nbconvert_exporter": "python",
      "pygments_lexer": "ipython3",
      "version": "3.10.12"
    }
  },
  "nbformat": 4,
  "nbformat_minor": 0
}